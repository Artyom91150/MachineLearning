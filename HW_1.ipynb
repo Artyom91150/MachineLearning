{
 "cells": [
  {
   "cell_type": "markdown",
   "id": "929c126b",
   "metadata": {},
   "source": [
    "# Качество вина\n",
    "\n",
    "\n",
    "Признаки:\n",
    "- `type` (красное / белое)\n",
    "- `fixed acidity` (фиксированная кислотность)\n",
    "- `volatile acidity` (летучая кислотность)\n",
    "- `citric acid` (лимонная кислота)\n",
    "- `residual sugar` (остаточный сахар)\n",
    "- `chlorides` (хлориды)\n",
    "- `free sulfur dioxide` (свободный диоксид серы)\n",
    "- `total sulfur dioxide` (суммарный диоксид серы)\n",
    "- `density` (плотность)\n",
    "- `pH`\n",
    "- `sulfates` (сульфаты)\n",
    "- `alcohol` (спирт)\n",
    "\n",
    "По данным признакам необходимо предсказать качество вина от 0 до 10:\n",
    "\n",
    "- `quality` (качество)\n",
    "\n",
    "Признак `type` - категориальный (white/red), все остальные признаки являются числовыми"
   ]
  },
  {
   "cell_type": "code",
   "execution_count": 1,
   "id": "18a068fb",
   "metadata": {},
   "outputs": [],
   "source": [
    "import numpy as np              # Массивы (матрицы, векторы, линейная алгебра)\n",
    "import matplotlib.pyplot as plt # Научная графика\n",
    "%matplotlib inline \n",
    "    # Говорим jupyter'у, чтобы весь графический вывод был в браузере, а не в отдельном окне\n",
    "import pandas as pd             # Таблицы и временные ряды (dataframe, series)\n",
    "import seaborn as sns           # Еще больше красивой графики для визуализации данных\n",
    "import sklearn                  # Алгоритмы машинного обучения\n",
    "import matplotlib.gridspec as gridspec"
   ]
  },
  {
   "cell_type": "markdown",
   "id": "53a2f5d0",
   "metadata": {},
   "source": [
    "# Чтение данных"
   ]
  },
  {
   "cell_type": "code",
   "execution_count": 2,
   "id": "3d811983",
   "metadata": {},
   "outputs": [],
   "source": [
    "url = \"winequalityN.csv\"\n",
    "data_raw = pd.read_csv(url)"
   ]
  },
  {
   "cell_type": "code",
   "execution_count": 3,
   "id": "6a5f617d",
   "metadata": {},
   "outputs": [
    {
     "data": {
      "text/html": [
       "<div>\n",
       "<style scoped>\n",
       "    .dataframe tbody tr th:only-of-type {\n",
       "        vertical-align: middle;\n",
       "    }\n",
       "\n",
       "    .dataframe tbody tr th {\n",
       "        vertical-align: top;\n",
       "    }\n",
       "\n",
       "    .dataframe thead th {\n",
       "        text-align: right;\n",
       "    }\n",
       "</style>\n",
       "<table border=\"1\" class=\"dataframe\">\n",
       "  <thead>\n",
       "    <tr style=\"text-align: right;\">\n",
       "      <th></th>\n",
       "      <th>type</th>\n",
       "      <th>fixed acidity</th>\n",
       "      <th>volatile acidity</th>\n",
       "      <th>citric acid</th>\n",
       "      <th>residual sugar</th>\n",
       "      <th>chlorides</th>\n",
       "      <th>free sulfur dioxide</th>\n",
       "      <th>total sulfur dioxide</th>\n",
       "      <th>density</th>\n",
       "      <th>pH</th>\n",
       "      <th>sulphates</th>\n",
       "      <th>alcohol</th>\n",
       "      <th>quality</th>\n",
       "    </tr>\n",
       "  </thead>\n",
       "  <tbody>\n",
       "    <tr>\n",
       "      <th>0</th>\n",
       "      <td>white</td>\n",
       "      <td>7.0</td>\n",
       "      <td>0.27</td>\n",
       "      <td>0.36</td>\n",
       "      <td>20.7</td>\n",
       "      <td>0.045</td>\n",
       "      <td>45.0</td>\n",
       "      <td>170.0</td>\n",
       "      <td>1.0010</td>\n",
       "      <td>3.00</td>\n",
       "      <td>0.45</td>\n",
       "      <td>8.8</td>\n",
       "      <td>6</td>\n",
       "    </tr>\n",
       "    <tr>\n",
       "      <th>1</th>\n",
       "      <td>white</td>\n",
       "      <td>6.3</td>\n",
       "      <td>0.30</td>\n",
       "      <td>0.34</td>\n",
       "      <td>1.6</td>\n",
       "      <td>0.049</td>\n",
       "      <td>14.0</td>\n",
       "      <td>132.0</td>\n",
       "      <td>0.9940</td>\n",
       "      <td>3.30</td>\n",
       "      <td>0.49</td>\n",
       "      <td>9.5</td>\n",
       "      <td>6</td>\n",
       "    </tr>\n",
       "    <tr>\n",
       "      <th>2</th>\n",
       "      <td>white</td>\n",
       "      <td>8.1</td>\n",
       "      <td>0.28</td>\n",
       "      <td>0.40</td>\n",
       "      <td>6.9</td>\n",
       "      <td>0.050</td>\n",
       "      <td>30.0</td>\n",
       "      <td>97.0</td>\n",
       "      <td>0.9951</td>\n",
       "      <td>3.26</td>\n",
       "      <td>0.44</td>\n",
       "      <td>10.1</td>\n",
       "      <td>6</td>\n",
       "    </tr>\n",
       "    <tr>\n",
       "      <th>3</th>\n",
       "      <td>white</td>\n",
       "      <td>7.2</td>\n",
       "      <td>0.23</td>\n",
       "      <td>0.32</td>\n",
       "      <td>8.5</td>\n",
       "      <td>0.058</td>\n",
       "      <td>47.0</td>\n",
       "      <td>186.0</td>\n",
       "      <td>0.9956</td>\n",
       "      <td>3.19</td>\n",
       "      <td>0.40</td>\n",
       "      <td>9.9</td>\n",
       "      <td>6</td>\n",
       "    </tr>\n",
       "    <tr>\n",
       "      <th>4</th>\n",
       "      <td>white</td>\n",
       "      <td>7.2</td>\n",
       "      <td>0.23</td>\n",
       "      <td>0.32</td>\n",
       "      <td>8.5</td>\n",
       "      <td>0.058</td>\n",
       "      <td>47.0</td>\n",
       "      <td>186.0</td>\n",
       "      <td>0.9956</td>\n",
       "      <td>3.19</td>\n",
       "      <td>0.40</td>\n",
       "      <td>9.9</td>\n",
       "      <td>6</td>\n",
       "    </tr>\n",
       "  </tbody>\n",
       "</table>\n",
       "</div>"
      ],
      "text/plain": [
       "    type  fixed acidity  volatile acidity  citric acid  residual sugar  \\\n",
       "0  white            7.0              0.27         0.36            20.7   \n",
       "1  white            6.3              0.30         0.34             1.6   \n",
       "2  white            8.1              0.28         0.40             6.9   \n",
       "3  white            7.2              0.23         0.32             8.5   \n",
       "4  white            7.2              0.23         0.32             8.5   \n",
       "\n",
       "   chlorides  free sulfur dioxide  total sulfur dioxide  density    pH  \\\n",
       "0      0.045                 45.0                 170.0   1.0010  3.00   \n",
       "1      0.049                 14.0                 132.0   0.9940  3.30   \n",
       "2      0.050                 30.0                  97.0   0.9951  3.26   \n",
       "3      0.058                 47.0                 186.0   0.9956  3.19   \n",
       "4      0.058                 47.0                 186.0   0.9956  3.19   \n",
       "\n",
       "   sulphates  alcohol  quality  \n",
       "0       0.45      8.8        6  \n",
       "1       0.49      9.5        6  \n",
       "2       0.44     10.1        6  \n",
       "3       0.40      9.9        6  \n",
       "4       0.40      9.9        6  "
      ]
     },
     "execution_count": 3,
     "metadata": {},
     "output_type": "execute_result"
    }
   ],
   "source": [
    "data_raw.head()"
   ]
  },
  {
   "cell_type": "code",
   "execution_count": 4,
   "id": "33bffe8d",
   "metadata": {},
   "outputs": [
    {
     "data": {
      "text/html": [
       "<div>\n",
       "<style scoped>\n",
       "    .dataframe tbody tr th:only-of-type {\n",
       "        vertical-align: middle;\n",
       "    }\n",
       "\n",
       "    .dataframe tbody tr th {\n",
       "        vertical-align: top;\n",
       "    }\n",
       "\n",
       "    .dataframe thead th {\n",
       "        text-align: right;\n",
       "    }\n",
       "</style>\n",
       "<table border=\"1\" class=\"dataframe\">\n",
       "  <thead>\n",
       "    <tr style=\"text-align: right;\">\n",
       "      <th></th>\n",
       "      <th>type</th>\n",
       "      <th>fixed acidity</th>\n",
       "      <th>volatile acidity</th>\n",
       "      <th>citric acid</th>\n",
       "      <th>residual sugar</th>\n",
       "      <th>chlorides</th>\n",
       "      <th>free sulfur dioxide</th>\n",
       "      <th>total sulfur dioxide</th>\n",
       "      <th>density</th>\n",
       "      <th>pH</th>\n",
       "      <th>sulphates</th>\n",
       "      <th>alcohol</th>\n",
       "      <th>quality</th>\n",
       "    </tr>\n",
       "  </thead>\n",
       "  <tbody>\n",
       "    <tr>\n",
       "      <th>6492</th>\n",
       "      <td>red</td>\n",
       "      <td>6.2</td>\n",
       "      <td>0.600</td>\n",
       "      <td>0.08</td>\n",
       "      <td>2.0</td>\n",
       "      <td>0.090</td>\n",
       "      <td>32.0</td>\n",
       "      <td>44.0</td>\n",
       "      <td>0.99490</td>\n",
       "      <td>3.45</td>\n",
       "      <td>0.58</td>\n",
       "      <td>10.5</td>\n",
       "      <td>5</td>\n",
       "    </tr>\n",
       "    <tr>\n",
       "      <th>6493</th>\n",
       "      <td>red</td>\n",
       "      <td>5.9</td>\n",
       "      <td>0.550</td>\n",
       "      <td>0.10</td>\n",
       "      <td>2.2</td>\n",
       "      <td>0.062</td>\n",
       "      <td>39.0</td>\n",
       "      <td>51.0</td>\n",
       "      <td>0.99512</td>\n",
       "      <td>3.52</td>\n",
       "      <td>NaN</td>\n",
       "      <td>11.2</td>\n",
       "      <td>6</td>\n",
       "    </tr>\n",
       "    <tr>\n",
       "      <th>6494</th>\n",
       "      <td>red</td>\n",
       "      <td>6.3</td>\n",
       "      <td>0.510</td>\n",
       "      <td>0.13</td>\n",
       "      <td>2.3</td>\n",
       "      <td>0.076</td>\n",
       "      <td>29.0</td>\n",
       "      <td>40.0</td>\n",
       "      <td>0.99574</td>\n",
       "      <td>3.42</td>\n",
       "      <td>0.75</td>\n",
       "      <td>11.0</td>\n",
       "      <td>6</td>\n",
       "    </tr>\n",
       "    <tr>\n",
       "      <th>6495</th>\n",
       "      <td>red</td>\n",
       "      <td>5.9</td>\n",
       "      <td>0.645</td>\n",
       "      <td>0.12</td>\n",
       "      <td>2.0</td>\n",
       "      <td>0.075</td>\n",
       "      <td>32.0</td>\n",
       "      <td>44.0</td>\n",
       "      <td>0.99547</td>\n",
       "      <td>3.57</td>\n",
       "      <td>0.71</td>\n",
       "      <td>10.2</td>\n",
       "      <td>5</td>\n",
       "    </tr>\n",
       "    <tr>\n",
       "      <th>6496</th>\n",
       "      <td>red</td>\n",
       "      <td>6.0</td>\n",
       "      <td>0.310</td>\n",
       "      <td>0.47</td>\n",
       "      <td>3.6</td>\n",
       "      <td>0.067</td>\n",
       "      <td>18.0</td>\n",
       "      <td>42.0</td>\n",
       "      <td>0.99549</td>\n",
       "      <td>3.39</td>\n",
       "      <td>0.66</td>\n",
       "      <td>11.0</td>\n",
       "      <td>6</td>\n",
       "    </tr>\n",
       "  </tbody>\n",
       "</table>\n",
       "</div>"
      ],
      "text/plain": [
       "     type  fixed acidity  volatile acidity  citric acid  residual sugar  \\\n",
       "6492  red            6.2             0.600         0.08             2.0   \n",
       "6493  red            5.9             0.550         0.10             2.2   \n",
       "6494  red            6.3             0.510         0.13             2.3   \n",
       "6495  red            5.9             0.645         0.12             2.0   \n",
       "6496  red            6.0             0.310         0.47             3.6   \n",
       "\n",
       "      chlorides  free sulfur dioxide  total sulfur dioxide  density    pH  \\\n",
       "6492      0.090                 32.0                  44.0  0.99490  3.45   \n",
       "6493      0.062                 39.0                  51.0  0.99512  3.52   \n",
       "6494      0.076                 29.0                  40.0  0.99574  3.42   \n",
       "6495      0.075                 32.0                  44.0  0.99547  3.57   \n",
       "6496      0.067                 18.0                  42.0  0.99549  3.39   \n",
       "\n",
       "      sulphates  alcohol  quality  \n",
       "6492       0.58     10.5        5  \n",
       "6493        NaN     11.2        6  \n",
       "6494       0.75     11.0        6  \n",
       "6495       0.71     10.2        5  \n",
       "6496       0.66     11.0        6  "
      ]
     },
     "execution_count": 4,
     "metadata": {},
     "output_type": "execute_result"
    }
   ],
   "source": [
    "data_raw.tail()"
   ]
  },
  {
   "cell_type": "code",
   "execution_count": 5,
   "id": "afc73c11",
   "metadata": {},
   "outputs": [
    {
     "data": {
      "text/plain": [
       "Index(['type', 'fixed acidity', 'volatile acidity', 'citric acid',\n",
       "       'residual sugar', 'chlorides', 'free sulfur dioxide',\n",
       "       'total sulfur dioxide', 'density', 'pH', 'sulphates', 'alcohol',\n",
       "       'quality'],\n",
       "      dtype='object')"
      ]
     },
     "execution_count": 5,
     "metadata": {},
     "output_type": "execute_result"
    }
   ],
   "source": [
    "data_raw.columns"
   ]
  },
  {
   "cell_type": "code",
   "execution_count": 6,
   "id": "ad768487",
   "metadata": {},
   "outputs": [
    {
     "data": {
      "text/plain": [
       "RangeIndex(start=0, stop=6497, step=1)"
      ]
     },
     "execution_count": 6,
     "metadata": {},
     "output_type": "execute_result"
    }
   ],
   "source": [
    "data_raw.index"
   ]
  },
  {
   "cell_type": "code",
   "execution_count": 7,
   "id": "487f1758",
   "metadata": {},
   "outputs": [],
   "source": [
    "data_raw['type'] = data_raw['type'].astype('category')"
   ]
  },
  {
   "cell_type": "code",
   "execution_count": 8,
   "id": "0054d877",
   "metadata": {},
   "outputs": [
    {
     "data": {
      "text/html": [
       "<div>\n",
       "<style scoped>\n",
       "    .dataframe tbody tr th:only-of-type {\n",
       "        vertical-align: middle;\n",
       "    }\n",
       "\n",
       "    .dataframe tbody tr th {\n",
       "        vertical-align: top;\n",
       "    }\n",
       "\n",
       "    .dataframe thead th {\n",
       "        text-align: right;\n",
       "    }\n",
       "</style>\n",
       "<table border=\"1\" class=\"dataframe\">\n",
       "  <thead>\n",
       "    <tr style=\"text-align: right;\">\n",
       "      <th></th>\n",
       "      <th>fixed acidity</th>\n",
       "      <th>volatile acidity</th>\n",
       "      <th>citric acid</th>\n",
       "      <th>residual sugar</th>\n",
       "      <th>chlorides</th>\n",
       "      <th>free sulfur dioxide</th>\n",
       "      <th>total sulfur dioxide</th>\n",
       "      <th>density</th>\n",
       "      <th>pH</th>\n",
       "      <th>sulphates</th>\n",
       "      <th>alcohol</th>\n",
       "      <th>quality</th>\n",
       "    </tr>\n",
       "  </thead>\n",
       "  <tbody>\n",
       "    <tr>\n",
       "      <th>count</th>\n",
       "      <td>6487.000000</td>\n",
       "      <td>6489.000000</td>\n",
       "      <td>6494.000000</td>\n",
       "      <td>6495.000000</td>\n",
       "      <td>6495.000000</td>\n",
       "      <td>6497.000000</td>\n",
       "      <td>6497.000000</td>\n",
       "      <td>6497.000000</td>\n",
       "      <td>6488.000000</td>\n",
       "      <td>6493.000000</td>\n",
       "      <td>6497.000000</td>\n",
       "      <td>6497.000000</td>\n",
       "    </tr>\n",
       "    <tr>\n",
       "      <th>mean</th>\n",
       "      <td>7.216579</td>\n",
       "      <td>0.339691</td>\n",
       "      <td>0.318722</td>\n",
       "      <td>5.444326</td>\n",
       "      <td>0.056042</td>\n",
       "      <td>30.525319</td>\n",
       "      <td>115.744574</td>\n",
       "      <td>0.994697</td>\n",
       "      <td>3.218395</td>\n",
       "      <td>0.531215</td>\n",
       "      <td>10.491801</td>\n",
       "      <td>5.818378</td>\n",
       "    </tr>\n",
       "    <tr>\n",
       "      <th>std</th>\n",
       "      <td>1.296750</td>\n",
       "      <td>0.164649</td>\n",
       "      <td>0.145265</td>\n",
       "      <td>4.758125</td>\n",
       "      <td>0.035036</td>\n",
       "      <td>17.749400</td>\n",
       "      <td>56.521855</td>\n",
       "      <td>0.002999</td>\n",
       "      <td>0.160748</td>\n",
       "      <td>0.148814</td>\n",
       "      <td>1.192712</td>\n",
       "      <td>0.873255</td>\n",
       "    </tr>\n",
       "    <tr>\n",
       "      <th>min</th>\n",
       "      <td>3.800000</td>\n",
       "      <td>0.080000</td>\n",
       "      <td>0.000000</td>\n",
       "      <td>0.600000</td>\n",
       "      <td>0.009000</td>\n",
       "      <td>1.000000</td>\n",
       "      <td>6.000000</td>\n",
       "      <td>0.987110</td>\n",
       "      <td>2.720000</td>\n",
       "      <td>0.220000</td>\n",
       "      <td>8.000000</td>\n",
       "      <td>3.000000</td>\n",
       "    </tr>\n",
       "    <tr>\n",
       "      <th>25%</th>\n",
       "      <td>6.400000</td>\n",
       "      <td>0.230000</td>\n",
       "      <td>0.250000</td>\n",
       "      <td>1.800000</td>\n",
       "      <td>0.038000</td>\n",
       "      <td>17.000000</td>\n",
       "      <td>77.000000</td>\n",
       "      <td>0.992340</td>\n",
       "      <td>3.110000</td>\n",
       "      <td>0.430000</td>\n",
       "      <td>9.500000</td>\n",
       "      <td>5.000000</td>\n",
       "    </tr>\n",
       "    <tr>\n",
       "      <th>50%</th>\n",
       "      <td>7.000000</td>\n",
       "      <td>0.290000</td>\n",
       "      <td>0.310000</td>\n",
       "      <td>3.000000</td>\n",
       "      <td>0.047000</td>\n",
       "      <td>29.000000</td>\n",
       "      <td>118.000000</td>\n",
       "      <td>0.994890</td>\n",
       "      <td>3.210000</td>\n",
       "      <td>0.510000</td>\n",
       "      <td>10.300000</td>\n",
       "      <td>6.000000</td>\n",
       "    </tr>\n",
       "    <tr>\n",
       "      <th>75%</th>\n",
       "      <td>7.700000</td>\n",
       "      <td>0.400000</td>\n",
       "      <td>0.390000</td>\n",
       "      <td>8.100000</td>\n",
       "      <td>0.065000</td>\n",
       "      <td>41.000000</td>\n",
       "      <td>156.000000</td>\n",
       "      <td>0.996990</td>\n",
       "      <td>3.320000</td>\n",
       "      <td>0.600000</td>\n",
       "      <td>11.300000</td>\n",
       "      <td>6.000000</td>\n",
       "    </tr>\n",
       "    <tr>\n",
       "      <th>max</th>\n",
       "      <td>15.900000</td>\n",
       "      <td>1.580000</td>\n",
       "      <td>1.660000</td>\n",
       "      <td>65.800000</td>\n",
       "      <td>0.611000</td>\n",
       "      <td>289.000000</td>\n",
       "      <td>440.000000</td>\n",
       "      <td>1.038980</td>\n",
       "      <td>4.010000</td>\n",
       "      <td>2.000000</td>\n",
       "      <td>14.900000</td>\n",
       "      <td>9.000000</td>\n",
       "    </tr>\n",
       "  </tbody>\n",
       "</table>\n",
       "</div>"
      ],
      "text/plain": [
       "       fixed acidity  volatile acidity  citric acid  residual sugar  \\\n",
       "count    6487.000000       6489.000000  6494.000000     6495.000000   \n",
       "mean        7.216579          0.339691     0.318722        5.444326   \n",
       "std         1.296750          0.164649     0.145265        4.758125   \n",
       "min         3.800000          0.080000     0.000000        0.600000   \n",
       "25%         6.400000          0.230000     0.250000        1.800000   \n",
       "50%         7.000000          0.290000     0.310000        3.000000   \n",
       "75%         7.700000          0.400000     0.390000        8.100000   \n",
       "max        15.900000          1.580000     1.660000       65.800000   \n",
       "\n",
       "         chlorides  free sulfur dioxide  total sulfur dioxide      density  \\\n",
       "count  6495.000000          6497.000000           6497.000000  6497.000000   \n",
       "mean      0.056042            30.525319            115.744574     0.994697   \n",
       "std       0.035036            17.749400             56.521855     0.002999   \n",
       "min       0.009000             1.000000              6.000000     0.987110   \n",
       "25%       0.038000            17.000000             77.000000     0.992340   \n",
       "50%       0.047000            29.000000            118.000000     0.994890   \n",
       "75%       0.065000            41.000000            156.000000     0.996990   \n",
       "max       0.611000           289.000000            440.000000     1.038980   \n",
       "\n",
       "                pH    sulphates      alcohol      quality  \n",
       "count  6488.000000  6493.000000  6497.000000  6497.000000  \n",
       "mean      3.218395     0.531215    10.491801     5.818378  \n",
       "std       0.160748     0.148814     1.192712     0.873255  \n",
       "min       2.720000     0.220000     8.000000     3.000000  \n",
       "25%       3.110000     0.430000     9.500000     5.000000  \n",
       "50%       3.210000     0.510000    10.300000     6.000000  \n",
       "75%       3.320000     0.600000    11.300000     6.000000  \n",
       "max       4.010000     2.000000    14.900000     9.000000  "
      ]
     },
     "execution_count": 8,
     "metadata": {},
     "output_type": "execute_result"
    }
   ],
   "source": [
    "data_raw.describe()"
   ]
  },
  {
   "cell_type": "code",
   "execution_count": 9,
   "id": "ff674bea",
   "metadata": {},
   "outputs": [
    {
     "data": {
      "text/html": [
       "<div>\n",
       "<style scoped>\n",
       "    .dataframe tbody tr th:only-of-type {\n",
       "        vertical-align: middle;\n",
       "    }\n",
       "\n",
       "    .dataframe tbody tr th {\n",
       "        vertical-align: top;\n",
       "    }\n",
       "\n",
       "    .dataframe thead th {\n",
       "        text-align: right;\n",
       "    }\n",
       "</style>\n",
       "<table border=\"1\" class=\"dataframe\">\n",
       "  <thead>\n",
       "    <tr style=\"text-align: right;\">\n",
       "      <th></th>\n",
       "      <th>type</th>\n",
       "    </tr>\n",
       "  </thead>\n",
       "  <tbody>\n",
       "    <tr>\n",
       "      <th>count</th>\n",
       "      <td>6497</td>\n",
       "    </tr>\n",
       "    <tr>\n",
       "      <th>unique</th>\n",
       "      <td>2</td>\n",
       "    </tr>\n",
       "    <tr>\n",
       "      <th>top</th>\n",
       "      <td>white</td>\n",
       "    </tr>\n",
       "    <tr>\n",
       "      <th>freq</th>\n",
       "      <td>4898</td>\n",
       "    </tr>\n",
       "  </tbody>\n",
       "</table>\n",
       "</div>"
      ],
      "text/plain": [
       "         type\n",
       "count    6497\n",
       "unique      2\n",
       "top     white\n",
       "freq     4898"
      ]
     },
     "execution_count": 9,
     "metadata": {},
     "output_type": "execute_result"
    }
   ],
   "source": [
    "data_raw.describe(include=['category'])"
   ]
  },
  {
   "cell_type": "markdown",
   "id": "2e305857",
   "metadata": {},
   "source": [
    "# Устранение выбросов"
   ]
  },
  {
   "cell_type": "markdown",
   "id": "344f4470",
   "metadata": {},
   "source": [
    "- Поскольку, в нашей задаче, практически во всех признаках присутствует небольшое количество выбросов, необходимо избавиться от них. Это позволит улучшить решающее правило и снизить вероятность ошибочного предсказания.\n",
    "\n",
    "Далее показаны некоторые примеры выбросов"
   ]
  },
  {
   "cell_type": "code",
   "execution_count": 10,
   "id": "3ad4d0d0",
   "metadata": {},
   "outputs": [
    {
     "data": {
      "image/png": "[encoded data removed]",
      "text/plain": [
       "<Figure size 1080x360 with 4 Axes>"
      ]
     },
     "metadata": {
      "needs_background": "light"
     },
     "output_type": "display_data"
    }
   ],
   "source": [
    "fig = plt.figure(figsize=(15, 5))\n",
    "gs = gridspec.GridSpec(nrows=2, ncols=2)\n",
    "\n",
    "\n",
    "ax = fig.add_subplot(gs[0, 0])\n",
    "ax.scatter(x='residual sugar', y='quality', data=data_raw, alpha = 0.5)\n",
    "pass\n",
    "\n",
    "ax = fig.add_subplot(gs[1, 0])\n",
    "ax.scatter(x='free sulfur dioxide', y='quality', data=data_raw, alpha = 0.5)\n",
    "pass\n",
    "\n",
    "ax = fig.add_subplot(gs[0, 1])\n",
    "ax.scatter(x='density', y='quality', data=data_raw, alpha = 0.5)\n",
    "pass\n",
    "\n",
    "ax = fig.add_subplot(gs[1, 1])\n",
    "ax.scatter(x='chlorides', y='quality', data=data_raw, alpha = 0.5)\n",
    "pass"
   ]
  },
  {
   "cell_type": "code",
   "execution_count": 11,
   "id": "cbf22946",
   "metadata": {},
   "outputs": [
    {
     "data": {
      "text/plain": [
       "(5953, 13)"
      ]
     },
     "execution_count": 11,
     "metadata": {},
     "output_type": "execute_result"
    }
   ],
   "source": [
    "for i in range(1, 12):\n",
    "    rows_to_drop = data_raw[(data_raw[data_raw.columns[i]] < data_raw[data_raw.columns[i]].quantile(0.005)) | (data_raw[data_raw.columns[i]] > data_raw[data_raw.columns[i]].quantile(0.995))].index\n",
    "    data_raw = data_raw.drop(rows_to_drop)\n",
    "data = data_raw\n",
    "data.shape"
   ]
  },
  {
   "cell_type": "markdown",
   "id": "bda4b416",
   "metadata": {},
   "source": [
    "# Визуализация данных"
   ]
  },
  {
   "cell_type": "markdown",
   "id": "fee2f470",
   "metadata": {},
   "source": [
    "- Поскольку красное и белое вино несколько различаются по химическому составу, будет логично разбить данные на три выборки:\n",
    "    - Данные красного и белого вина\n",
    "    - Данные только красного и только белого вина"
   ]
  },
  {
   "cell_type": "code",
   "execution_count": 12,
   "id": "9baa27b4",
   "metadata": {},
   "outputs": [],
   "source": [
    "data_W = data[data['type'] == 'white']\n",
    "data_W = data_W.drop(['type'], axis=1)\n",
    "\n",
    "\n",
    "data_R = data[data['type'] == 'red']\n",
    "data_R = data_R.drop(['type'], axis=1)"
   ]
  },
  {
   "cell_type": "code",
   "execution_count": 13,
   "id": "e6bfb97f",
   "metadata": {},
   "outputs": [
    {
     "data": {
      "image/png": "[encoded data removed]",
      "text/plain": [
       "<Figure size 1080x2160 with 11 Axes>"
      ]
     },
     "metadata": {
      "needs_background": "light"
     },
     "output_type": "display_data"
    }
   ],
   "source": [
    "fig = plt.figure(figsize=(15, 30))\n",
    "gs = gridspec.GridSpec(nrows=6, ncols=2)\n",
    "\n",
    "k = 1\n",
    "for i in range(0, 6):\n",
    "    for j in range(0, 2):\n",
    "        if k < 12 :\n",
    "            ax = fig.add_subplot(gs[i, j])\n",
    "            sns.boxplot(data=data, x=\"quality\", y=data.columns[k], hue=\"type\", linewidth=1,\n",
    "               palette={\"red\": (200/256, 0/256, 0/256), \"white\": (254/256, 255/256, 201/256)}, ax = ax)\n",
    "            k= k + 1"
   ]
  },
  {
   "cell_type": "code",
   "execution_count": 14,
   "id": "7dcfb87e",
   "metadata": {},
   "outputs": [
    {
     "data": {
      "text/plain": [
       "Text(0.5, 1.0, 'Матрица корреляции для белого и красного вина')"
      ]
     },
     "execution_count": 14,
     "metadata": {},
     "output_type": "execute_result"
    },
    {
     "data": {
      "image/png": "[encoded data removed]",
      "text/plain": [
       "<Figure size 1008x432 with 2 Axes>"
      ]
     },
     "metadata": {
      "needs_background": "light"
     },
     "output_type": "display_data"
    }
   ],
   "source": [
    "fig = plt.figure(figsize=(14, 6))\n",
    "sns.heatmap(data.corr(), cmap='coolwarm', annot=True, linewidths=.5)\n",
    "plt.title(\"Матрица корреляции для белого и красного вина\")"
   ]
  },
  {
   "cell_type": "code",
   "execution_count": 15,
   "id": "3d3dcafa",
   "metadata": {},
   "outputs": [
    {
     "data": {
      "text/plain": [
       "Text(0.5, 1.0, 'Матрица корреляции для белого вина')"
      ]
     },
     "execution_count": 15,
     "metadata": {},
     "output_type": "execute_result"
    },
    {
     "data": {
      "image/png": "[encoded data removed]",
      "text/plain": [
       "<Figure size 1008x432 with 2 Axes>"
      ]
     },
     "metadata": {
      "needs_background": "light"
     },
     "output_type": "display_data"
    }
   ],
   "source": [
    "fig = plt.figure(figsize=(14, 6))\n",
    "sns.heatmap(data_W.corr(), cmap='coolwarm', annot=True, linewidths=.5)\n",
    "plt.title(\"Матрица корреляции для белого вина\")"
   ]
  },
  {
   "cell_type": "code",
   "execution_count": 16,
   "id": "7dc7d2e9",
   "metadata": {},
   "outputs": [
    {
     "data": {
      "text/plain": [
       "Text(0.5, 1.0, 'Матрица корреляции для красного вина')"
      ]
     },
     "execution_count": 16,
     "metadata": {},
     "output_type": "execute_result"
    },
    {
     "data": {
      "image/png": "[encoded data removed]",
      "text/plain": [
       "<Figure size 1008x432 with 2 Axes>"
      ]
     },
     "metadata": {
      "needs_background": "light"
     },
     "output_type": "display_data"
    }
   ],
   "source": [
    "fig = plt.figure(figsize=(14, 6))\n",
    "sns.heatmap(data_R.corr(), cmap='coolwarm', annot=True, linewidths=.5)\n",
    "plt.title(\"Матрица корреляции для красного вина\")"
   ]
  },
  {
   "cell_type": "markdown",
   "id": "1c99ba0f",
   "metadata": {},
   "source": [
    "# Некоторые выводы на основе полученных графиков\n",
    "\n",
    "- Красное вино\n",
    "    - Качество растет с ростом фиксированной кислостности и снижается при росте летучей кислотности\n",
    "    - Качество растет с ростом лимонной кислоты\n",
    "    - Так же качество увеличивается с увеличением значения алкоголя\n",
    "    \n",
    "- Белое вино\n",
    "    - Относительно заметное влияние на увеличение качества влияет только увеличение значения алкоголя\n",
    "    \n",
    "Так же из матрицы корреляции видно, что ввиду различного хиимического состава красного и белого вина, есть смысл проводить выбор решающего правила, отдельно для каждого вида вина.\n",
    "\n",
    "\\* Далее классификация будет производиться на трех выборках: RW - исходная выборка с красным и белым вином, R - выборка только с красным вином, W - выборка только с белым вином."
   ]
  },
  {
   "cell_type": "markdown",
   "id": "99b5269c",
   "metadata": {},
   "source": [
    "# Обработка пропущенных значений"
   ]
  },
  {
   "cell_type": "markdown",
   "id": "0abcc70d",
   "metadata": {},
   "source": [
    "- Проверим наши данные на наличие пропущенных значений"
   ]
  },
  {
   "cell_type": "code",
   "execution_count": 17,
   "id": "dbb2d510",
   "metadata": {},
   "outputs": [
    {
     "data": {
      "text/plain": [
       "type                     0\n",
       "fixed acidity           10\n",
       "volatile acidity         7\n",
       "citric acid              3\n",
       "residual sugar           2\n",
       "chlorides                2\n",
       "free sulfur dioxide      0\n",
       "total sulfur dioxide     0\n",
       "density                  0\n",
       "pH                       9\n",
       "sulphates                4\n",
       "alcohol                  0\n",
       "quality                  0\n",
       "dtype: int64"
      ]
     },
     "execution_count": 17,
     "metadata": {},
     "output_type": "execute_result"
    }
   ],
   "source": [
    "data.isna().sum()  "
   ]
  },
  {
   "cell_type": "code",
   "execution_count": 18,
   "id": "7561b4f4",
   "metadata": {},
   "outputs": [
    {
     "data": {
      "text/plain": [
       "fixed acidity           2\n",
       "volatile acidity        1\n",
       "citric acid             1\n",
       "residual sugar          0\n",
       "chlorides               0\n",
       "free sulfur dioxide     0\n",
       "total sulfur dioxide    0\n",
       "density                 0\n",
       "pH                      2\n",
       "sulphates               2\n",
       "alcohol                 0\n",
       "quality                 0\n",
       "dtype: int64"
      ]
     },
     "execution_count": 18,
     "metadata": {},
     "output_type": "execute_result"
    }
   ],
   "source": [
    "data_R.isna().sum()  "
   ]
  },
  {
   "cell_type": "code",
   "execution_count": 19,
   "id": "ae172bae",
   "metadata": {},
   "outputs": [
    {
     "data": {
      "text/plain": [
       "fixed acidity           8\n",
       "volatile acidity        6\n",
       "citric acid             2\n",
       "residual sugar          2\n",
       "chlorides               2\n",
       "free sulfur dioxide     0\n",
       "total sulfur dioxide    0\n",
       "density                 0\n",
       "pH                      7\n",
       "sulphates               2\n",
       "alcohol                 0\n",
       "quality                 0\n",
       "dtype: int64"
      ]
     },
     "execution_count": 19,
     "metadata": {},
     "output_type": "execute_result"
    }
   ],
   "source": [
    "data_W.isna().sum()  "
   ]
  },
  {
   "cell_type": "markdown",
   "id": "2a9d4ba4",
   "metadata": {},
   "source": [
    "- Поскольку пропущенные значения присутсвуют только в столбцах соответствующих числовым признакам, то будем заполнять их значением медианы текущего столбца"
   ]
  },
  {
   "cell_type": "code",
   "execution_count": 20,
   "id": "8d47a0c2",
   "metadata": {},
   "outputs": [
    {
     "name": "stderr",
     "output_type": "stream",
     "text": [
      "C:\\Users\\Artyom\\AppData\\Local\\Temp/ipykernel_11392/886148082.py:2: FutureWarning: Dropping of nuisance columns in DataFrame reductions (with 'numeric_only=None') is deprecated; in a future version this will raise TypeError.  Select only valid columns before calling the reduction.\n",
      "  data.fillna(data.median(axis = 0), axis=0 , inplace=True)\n"
     ]
    }
   ],
   "source": [
    "#RW\n",
    "data.fillna(data.median(axis = 0), axis=0 , inplace=True)\n",
    "\n",
    "#R\n",
    "data_R.fillna(data_R.median(axis = 0), axis=0 , inplace=True)\n",
    "\n",
    "#W\n",
    "data_W.fillna(data_W.median(axis = 0), axis=0 , inplace=True)"
   ]
  },
  {
   "cell_type": "code",
   "execution_count": 21,
   "id": "58259fd2",
   "metadata": {
    "scrolled": true
   },
   "outputs": [
    {
     "data": {
      "text/plain": [
       "type                    0\n",
       "fixed acidity           0\n",
       "volatile acidity        0\n",
       "citric acid             0\n",
       "residual sugar          0\n",
       "chlorides               0\n",
       "free sulfur dioxide     0\n",
       "total sulfur dioxide    0\n",
       "density                 0\n",
       "pH                      0\n",
       "sulphates               0\n",
       "alcohol                 0\n",
       "quality                 0\n",
       "dtype: int64"
      ]
     },
     "execution_count": 21,
     "metadata": {},
     "output_type": "execute_result"
    }
   ],
   "source": [
    "data.isna().sum()  "
   ]
  },
  {
   "cell_type": "markdown",
   "id": "8056647b",
   "metadata": {},
   "source": [
    "- Таким образом мы заполнили пропущенные значения"
   ]
  },
  {
   "cell_type": "markdown",
   "id": "16fee4b1",
   "metadata": {},
   "source": [
    "# Бинаризация категориальных признаков"
   ]
  },
  {
   "cell_type": "markdown",
   "id": "c9ffba5b",
   "metadata": {},
   "source": [
    "Единтсвенный категориальный признак `type` принимающий значения red и white можно заменить на числовой признак следующим образом:\n",
    "\n",
    "- `red` -> 0\n",
    "- `white` -> 1"
   ]
  },
  {
   "cell_type": "code",
   "execution_count": 22,
   "id": "a9dcc362",
   "metadata": {},
   "outputs": [],
   "source": [
    "data['type'] = pd.factorize(data['type'])[0]"
   ]
  },
  {
   "cell_type": "code",
   "execution_count": 23,
   "id": "73ef3a41",
   "metadata": {
    "scrolled": true
   },
   "outputs": [
    {
     "data": {
      "text/html": [
       "<div>\n",
       "<style scoped>\n",
       "    .dataframe tbody tr th:only-of-type {\n",
       "        vertical-align: middle;\n",
       "    }\n",
       "\n",
       "    .dataframe tbody tr th {\n",
       "        vertical-align: top;\n",
       "    }\n",
       "\n",
       "    .dataframe thead th {\n",
       "        text-align: right;\n",
       "    }\n",
       "</style>\n",
       "<table border=\"1\" class=\"dataframe\">\n",
       "  <thead>\n",
       "    <tr style=\"text-align: right;\">\n",
       "      <th></th>\n",
       "      <th>type</th>\n",
       "      <th>fixed acidity</th>\n",
       "      <th>volatile acidity</th>\n",
       "      <th>citric acid</th>\n",
       "      <th>residual sugar</th>\n",
       "      <th>chlorides</th>\n",
       "      <th>free sulfur dioxide</th>\n",
       "      <th>total sulfur dioxide</th>\n",
       "      <th>density</th>\n",
       "      <th>pH</th>\n",
       "      <th>sulphates</th>\n",
       "      <th>alcohol</th>\n",
       "      <th>quality</th>\n",
       "    </tr>\n",
       "  </thead>\n",
       "  <tbody>\n",
       "    <tr>\n",
       "      <th>1</th>\n",
       "      <td>0</td>\n",
       "      <td>6.3</td>\n",
       "      <td>0.30</td>\n",
       "      <td>0.34</td>\n",
       "      <td>1.6</td>\n",
       "      <td>0.049</td>\n",
       "      <td>14.0</td>\n",
       "      <td>132.0</td>\n",
       "      <td>0.9940</td>\n",
       "      <td>3.30</td>\n",
       "      <td>0.49</td>\n",
       "      <td>9.5</td>\n",
       "      <td>6</td>\n",
       "    </tr>\n",
       "    <tr>\n",
       "      <th>2</th>\n",
       "      <td>0</td>\n",
       "      <td>8.1</td>\n",
       "      <td>0.28</td>\n",
       "      <td>0.40</td>\n",
       "      <td>6.9</td>\n",
       "      <td>0.050</td>\n",
       "      <td>30.0</td>\n",
       "      <td>97.0</td>\n",
       "      <td>0.9951</td>\n",
       "      <td>3.26</td>\n",
       "      <td>0.44</td>\n",
       "      <td>10.1</td>\n",
       "      <td>6</td>\n",
       "    </tr>\n",
       "    <tr>\n",
       "      <th>3</th>\n",
       "      <td>0</td>\n",
       "      <td>7.2</td>\n",
       "      <td>0.23</td>\n",
       "      <td>0.32</td>\n",
       "      <td>8.5</td>\n",
       "      <td>0.058</td>\n",
       "      <td>47.0</td>\n",
       "      <td>186.0</td>\n",
       "      <td>0.9956</td>\n",
       "      <td>3.19</td>\n",
       "      <td>0.40</td>\n",
       "      <td>9.9</td>\n",
       "      <td>6</td>\n",
       "    </tr>\n",
       "    <tr>\n",
       "      <th>4</th>\n",
       "      <td>0</td>\n",
       "      <td>7.2</td>\n",
       "      <td>0.23</td>\n",
       "      <td>0.32</td>\n",
       "      <td>8.5</td>\n",
       "      <td>0.058</td>\n",
       "      <td>47.0</td>\n",
       "      <td>186.0</td>\n",
       "      <td>0.9956</td>\n",
       "      <td>3.19</td>\n",
       "      <td>0.40</td>\n",
       "      <td>9.9</td>\n",
       "      <td>6</td>\n",
       "    </tr>\n",
       "    <tr>\n",
       "      <th>5</th>\n",
       "      <td>0</td>\n",
       "      <td>8.1</td>\n",
       "      <td>0.28</td>\n",
       "      <td>0.40</td>\n",
       "      <td>6.9</td>\n",
       "      <td>0.050</td>\n",
       "      <td>30.0</td>\n",
       "      <td>97.0</td>\n",
       "      <td>0.9951</td>\n",
       "      <td>3.26</td>\n",
       "      <td>0.44</td>\n",
       "      <td>10.1</td>\n",
       "      <td>6</td>\n",
       "    </tr>\n",
       "  </tbody>\n",
       "</table>\n",
       "</div>"
      ],
      "text/plain": [
       "   type  fixed acidity  volatile acidity  citric acid  residual sugar  \\\n",
       "1     0            6.3              0.30         0.34             1.6   \n",
       "2     0            8.1              0.28         0.40             6.9   \n",
       "3     0            7.2              0.23         0.32             8.5   \n",
       "4     0            7.2              0.23         0.32             8.5   \n",
       "5     0            8.1              0.28         0.40             6.9   \n",
       "\n",
       "   chlorides  free sulfur dioxide  total sulfur dioxide  density    pH  \\\n",
       "1      0.049                 14.0                 132.0   0.9940  3.30   \n",
       "2      0.050                 30.0                  97.0   0.9951  3.26   \n",
       "3      0.058                 47.0                 186.0   0.9956  3.19   \n",
       "4      0.058                 47.0                 186.0   0.9956  3.19   \n",
       "5      0.050                 30.0                  97.0   0.9951  3.26   \n",
       "\n",
       "   sulphates  alcohol  quality  \n",
       "1       0.49      9.5        6  \n",
       "2       0.44     10.1        6  \n",
       "3       0.40      9.9        6  \n",
       "4       0.40      9.9        6  \n",
       "5       0.44     10.1        6  "
      ]
     },
     "execution_count": 23,
     "metadata": {},
     "output_type": "execute_result"
    }
   ],
   "source": [
    "data.head()"
   ]
  },
  {
   "cell_type": "markdown",
   "id": "665daeb2",
   "metadata": {},
   "source": [
    "# Нормализация числовых признаков"
   ]
  },
  {
   "cell_type": "markdown",
   "id": "28678c55",
   "metadata": {},
   "source": [
    "Поскольку метод k ближайших соседей чувствителен к масштабированию данных, то полезно будет провести нормализацию числовых признаков. Например применим стандартизацию и приведем значения к нулевому среднему и единичному среднеквадратичному отклонению"
   ]
  },
  {
   "cell_type": "code",
   "execution_count": 24,
   "id": "1cfc81d8",
   "metadata": {},
   "outputs": [
    {
     "data": {
      "text/html": [
       "<div>\n",
       "<style scoped>\n",
       "    .dataframe tbody tr th:only-of-type {\n",
       "        vertical-align: middle;\n",
       "    }\n",
       "\n",
       "    .dataframe tbody tr th {\n",
       "        vertical-align: top;\n",
       "    }\n",
       "\n",
       "    .dataframe thead th {\n",
       "        text-align: right;\n",
       "    }\n",
       "</style>\n",
       "<table border=\"1\" class=\"dataframe\">\n",
       "  <thead>\n",
       "    <tr style=\"text-align: right;\">\n",
       "      <th></th>\n",
       "      <th>type</th>\n",
       "      <th>fixed acidity</th>\n",
       "      <th>volatile acidity</th>\n",
       "      <th>citric acid</th>\n",
       "      <th>residual sugar</th>\n",
       "      <th>chlorides</th>\n",
       "      <th>free sulfur dioxide</th>\n",
       "      <th>total sulfur dioxide</th>\n",
       "      <th>density</th>\n",
       "      <th>pH</th>\n",
       "      <th>sulphates</th>\n",
       "      <th>alcohol</th>\n",
       "      <th>quality</th>\n",
       "    </tr>\n",
       "  </thead>\n",
       "  <tbody>\n",
       "    <tr>\n",
       "      <th>count</th>\n",
       "      <td>5.953000e+03</td>\n",
       "      <td>5.953000e+03</td>\n",
       "      <td>5.953000e+03</td>\n",
       "      <td>5.953000e+03</td>\n",
       "      <td>5.953000e+03</td>\n",
       "      <td>5.953000e+03</td>\n",
       "      <td>5.953000e+03</td>\n",
       "      <td>5.953000e+03</td>\n",
       "      <td>5.953000e+03</td>\n",
       "      <td>5.953000e+03</td>\n",
       "      <td>5.953000e+03</td>\n",
       "      <td>5.953000e+03</td>\n",
       "      <td>5.953000e+03</td>\n",
       "    </tr>\n",
       "    <tr>\n",
       "      <th>mean</th>\n",
       "      <td>-2.337089e-14</td>\n",
       "      <td>2.302173e-14</td>\n",
       "      <td>2.027644e-15</td>\n",
       "      <td>4.199019e-14</td>\n",
       "      <td>-1.416481e-15</td>\n",
       "      <td>-1.468911e-14</td>\n",
       "      <td>7.307367e-16</td>\n",
       "      <td>-1.427121e-15</td>\n",
       "      <td>1.017317e-12</td>\n",
       "      <td>-1.688822e-14</td>\n",
       "      <td>-1.910195e-14</td>\n",
       "      <td>-4.687746e-14</td>\n",
       "      <td>-2.709864e-16</td>\n",
       "    </tr>\n",
       "    <tr>\n",
       "      <th>std</th>\n",
       "      <td>1.000000e+00</td>\n",
       "      <td>1.000000e+00</td>\n",
       "      <td>1.000000e+00</td>\n",
       "      <td>1.000000e+00</td>\n",
       "      <td>1.000000e+00</td>\n",
       "      <td>1.000000e+00</td>\n",
       "      <td>1.000000e+00</td>\n",
       "      <td>1.000000e+00</td>\n",
       "      <td>1.000000e+00</td>\n",
       "      <td>1.000000e+00</td>\n",
       "      <td>1.000000e+00</td>\n",
       "      <td>1.000000e+00</td>\n",
       "      <td>1.000000e+00</td>\n",
       "    </tr>\n",
       "    <tr>\n",
       "      <th>min</th>\n",
       "      <td>-5.570597e-01</td>\n",
       "      <td>-1.866561e+00</td>\n",
       "      <td>-1.415439e+00</td>\n",
       "      <td>-2.297145e+00</td>\n",
       "      <td>-1.007304e+00</td>\n",
       "      <td>-1.380425e+00</td>\n",
       "      <td>-1.656615e+00</td>\n",
       "      <td>-1.949518e+00</td>\n",
       "      <td>-2.131576e+00</td>\n",
       "      <td>-2.297355e+00</td>\n",
       "      <td>-1.888154e+00</td>\n",
       "      <td>-1.628811e+00</td>\n",
       "      <td>-3.294007e+00</td>\n",
       "    </tr>\n",
       "    <tr>\n",
       "      <th>25%</th>\n",
       "      <td>-5.570597e-01</td>\n",
       "      <td>-6.721330e-01</td>\n",
       "      <td>-6.764591e-01</td>\n",
       "      <td>-4.762233e-01</td>\n",
       "      <td>-7.884654e-01</td>\n",
       "      <td>-6.355097e-01</td>\n",
       "      <td>-8.081291e-01</td>\n",
       "      <td>-6.751096e-01</td>\n",
       "      <td>-8.073095e-01</td>\n",
       "      <td>-7.182363e-01</td>\n",
       "      <td>-7.345025e-01</td>\n",
       "      <td>-8.440256e-01</td>\n",
       "      <td>-9.602702e-01</td>\n",
       "    </tr>\n",
       "    <tr>\n",
       "      <th>50%</th>\n",
       "      <td>-5.570597e-01</td>\n",
       "      <td>-1.602350e-01</td>\n",
       "      <td>-2.909041e-01</td>\n",
       "      <td>-3.920198e-02</td>\n",
       "      <td>-5.258593e-01</td>\n",
       "      <td>-2.826551e-01</td>\n",
       "      <td>-8.085567e-02</td>\n",
       "      <td>5.312352e-02</td>\n",
       "      <td>8.026848e-02</td>\n",
       "      <td>-6.027026e-02</td>\n",
       "      <td>-1.192216e-01</td>\n",
       "      <td>-1.464385e-01</td>\n",
       "      <td>2.065982e-01</td>\n",
       "    </tr>\n",
       "    <tr>\n",
       "      <th>75%</th>\n",
       "      <td>-5.570597e-01</td>\n",
       "      <td>3.516629e-01</td>\n",
       "      <td>4.159466e-01</td>\n",
       "      <td>5.434931e-01</td>\n",
       "      <td>5.902168e-01</td>\n",
       "      <td>3.446419e-01</td>\n",
       "      <td>6.464177e-01</td>\n",
       "      <td>7.267392e-01</td>\n",
       "      <td>7.974315e-01</td>\n",
       "      <td>6.634924e-01</td>\n",
       "      <td>5.729693e-01</td>\n",
       "      <td>7.255454e-01</td>\n",
       "      <td>2.065982e-01</td>\n",
       "    </tr>\n",
       "    <tr>\n",
       "      <th>max</th>\n",
       "      <td>1.794838e+00</td>\n",
       "      <td>4.702795e+00</td>\n",
       "      <td>4.046589e+00</td>\n",
       "      <td>3.092784e+00</td>\n",
       "      <td>3.041207e+00</td>\n",
       "      <td>7.284115e+00</td>\n",
       "      <td>3.313087e+00</td>\n",
       "      <td>2.347058e+00</td>\n",
       "      <td>2.111047e+00</td>\n",
       "      <td>3.097967e+00</td>\n",
       "      <td>3.957014e+00</td>\n",
       "      <td>2.643910e+00</td>\n",
       "      <td>3.707204e+00</td>\n",
       "    </tr>\n",
       "  </tbody>\n",
       "</table>\n",
       "</div>"
      ],
      "text/plain": [
       "               type  fixed acidity  volatile acidity   citric acid  \\\n",
       "count  5.953000e+03   5.953000e+03      5.953000e+03  5.953000e+03   \n",
       "mean  -2.337089e-14   2.302173e-14      2.027644e-15  4.199019e-14   \n",
       "std    1.000000e+00   1.000000e+00      1.000000e+00  1.000000e+00   \n",
       "min   -5.570597e-01  -1.866561e+00     -1.415439e+00 -2.297145e+00   \n",
       "25%   -5.570597e-01  -6.721330e-01     -6.764591e-01 -4.762233e-01   \n",
       "50%   -5.570597e-01  -1.602350e-01     -2.909041e-01 -3.920198e-02   \n",
       "75%   -5.570597e-01   3.516629e-01      4.159466e-01  5.434931e-01   \n",
       "max    1.794838e+00   4.702795e+00      4.046589e+00  3.092784e+00   \n",
       "\n",
       "       residual sugar     chlorides  free sulfur dioxide  \\\n",
       "count    5.953000e+03  5.953000e+03         5.953000e+03   \n",
       "mean    -1.416481e-15 -1.468911e-14         7.307367e-16   \n",
       "std      1.000000e+00  1.000000e+00         1.000000e+00   \n",
       "min     -1.007304e+00 -1.380425e+00        -1.656615e+00   \n",
       "25%     -7.884654e-01 -6.355097e-01        -8.081291e-01   \n",
       "50%     -5.258593e-01 -2.826551e-01        -8.085567e-02   \n",
       "75%      5.902168e-01  3.446419e-01         6.464177e-01   \n",
       "max      3.041207e+00  7.284115e+00         3.313087e+00   \n",
       "\n",
       "       total sulfur dioxide       density            pH     sulphates  \\\n",
       "count          5.953000e+03  5.953000e+03  5.953000e+03  5.953000e+03   \n",
       "mean          -1.427121e-15  1.017317e-12 -1.688822e-14 -1.910195e-14   \n",
       "std            1.000000e+00  1.000000e+00  1.000000e+00  1.000000e+00   \n",
       "min           -1.949518e+00 -2.131576e+00 -2.297355e+00 -1.888154e+00   \n",
       "25%           -6.751096e-01 -8.073095e-01 -7.182363e-01 -7.345025e-01   \n",
       "50%            5.312352e-02  8.026848e-02 -6.027026e-02 -1.192216e-01   \n",
       "75%            7.267392e-01  7.974315e-01  6.634924e-01  5.729693e-01   \n",
       "max            2.347058e+00  2.111047e+00  3.097967e+00  3.957014e+00   \n",
       "\n",
       "            alcohol       quality  \n",
       "count  5.953000e+03  5.953000e+03  \n",
       "mean  -4.687746e-14 -2.709864e-16  \n",
       "std    1.000000e+00  1.000000e+00  \n",
       "min   -1.628811e+00 -3.294007e+00  \n",
       "25%   -8.440256e-01 -9.602702e-01  \n",
       "50%   -1.464385e-01  2.065982e-01  \n",
       "75%    7.255454e-01  2.065982e-01  \n",
       "max    2.643910e+00  3.707204e+00  "
      ]
     },
     "execution_count": 24,
     "metadata": {},
     "output_type": "execute_result"
    }
   ],
   "source": [
    "data_stand = (data - data.mean(axis = 0))/data.std(axis = 0)\n",
    "data_stand.describe()"
   ]
  },
  {
   "cell_type": "code",
   "execution_count": 25,
   "id": "1b62f89e",
   "metadata": {},
   "outputs": [
    {
     "data": {
      "text/html": [
       "<div>\n",
       "<style scoped>\n",
       "    .dataframe tbody tr th:only-of-type {\n",
       "        vertical-align: middle;\n",
       "    }\n",
       "\n",
       "    .dataframe tbody tr th {\n",
       "        vertical-align: top;\n",
       "    }\n",
       "\n",
       "    .dataframe thead th {\n",
       "        text-align: right;\n",
       "    }\n",
       "</style>\n",
       "<table border=\"1\" class=\"dataframe\">\n",
       "  <thead>\n",
       "    <tr style=\"text-align: right;\">\n",
       "      <th></th>\n",
       "      <th>fixed acidity</th>\n",
       "      <th>volatile acidity</th>\n",
       "      <th>citric acid</th>\n",
       "      <th>residual sugar</th>\n",
       "      <th>chlorides</th>\n",
       "      <th>free sulfur dioxide</th>\n",
       "      <th>total sulfur dioxide</th>\n",
       "      <th>density</th>\n",
       "      <th>pH</th>\n",
       "      <th>sulphates</th>\n",
       "      <th>alcohol</th>\n",
       "      <th>quality</th>\n",
       "    </tr>\n",
       "  </thead>\n",
       "  <tbody>\n",
       "    <tr>\n",
       "      <th>count</th>\n",
       "      <td>1.410000e+03</td>\n",
       "      <td>1.410000e+03</td>\n",
       "      <td>1.410000e+03</td>\n",
       "      <td>1.410000e+03</td>\n",
       "      <td>1.410000e+03</td>\n",
       "      <td>1.410000e+03</td>\n",
       "      <td>1.410000e+03</td>\n",
       "      <td>1.410000e+03</td>\n",
       "      <td>1.410000e+03</td>\n",
       "      <td>1.410000e+03</td>\n",
       "      <td>1.410000e+03</td>\n",
       "      <td>1.410000e+03</td>\n",
       "    </tr>\n",
       "    <tr>\n",
       "      <th>mean</th>\n",
       "      <td>-1.433621e-14</td>\n",
       "      <td>-1.956827e-15</td>\n",
       "      <td>5.386550e-15</td>\n",
       "      <td>-6.842438e-17</td>\n",
       "      <td>1.856994e-14</td>\n",
       "      <td>9.702641e-17</td>\n",
       "      <td>-6.406420e-17</td>\n",
       "      <td>9.459297e-14</td>\n",
       "      <td>1.595965e-15</td>\n",
       "      <td>-4.220757e-15</td>\n",
       "      <td>1.791483e-14</td>\n",
       "      <td>7.326291e-16</td>\n",
       "    </tr>\n",
       "    <tr>\n",
       "      <th>std</th>\n",
       "      <td>1.000000e+00</td>\n",
       "      <td>1.000000e+00</td>\n",
       "      <td>1.000000e+00</td>\n",
       "      <td>1.000000e+00</td>\n",
       "      <td>1.000000e+00</td>\n",
       "      <td>1.000000e+00</td>\n",
       "      <td>1.000000e+00</td>\n",
       "      <td>1.000000e+00</td>\n",
       "      <td>1.000000e+00</td>\n",
       "      <td>1.000000e+00</td>\n",
       "      <td>1.000000e+00</td>\n",
       "      <td>1.000000e+00</td>\n",
       "    </tr>\n",
       "    <tr>\n",
       "      <th>min</th>\n",
       "      <td>-2.043162e+00</td>\n",
       "      <td>-2.476281e+00</td>\n",
       "      <td>-1.399663e+00</td>\n",
       "      <td>-1.376969e+00</td>\n",
       "      <td>-1.989173e+00</td>\n",
       "      <td>-1.261271e+00</td>\n",
       "      <td>-1.182348e+00</td>\n",
       "      <td>-4.013890e+00</td>\n",
       "      <td>-3.185337e+00</td>\n",
       "      <td>-2.022397e+00</td>\n",
       "      <td>-1.693261e+00</td>\n",
       "      <td>-3.414660e+00</td>\n",
       "    </tr>\n",
       "    <tr>\n",
       "      <th>25%</th>\n",
       "      <td>-7.320123e-01</td>\n",
       "      <td>-7.527093e-01</td>\n",
       "      <td>-9.117440e-01</td>\n",
       "      <td>-4.979532e-01</td>\n",
       "      <td>-5.386440e-01</td>\n",
       "      <td>-7.796481e-01</td>\n",
       "      <td>-7.646060e-01</td>\n",
       "      <td>-6.523188e-01</td>\n",
       "      <td>-7.059160e-01</td>\n",
       "      <td>-7.168408e-01</td>\n",
       "      <td>-8.924513e-01</td>\n",
       "      <td>-8.302957e-01</td>\n",
       "    </tr>\n",
       "    <tr>\n",
       "      <th>50%</th>\n",
       "      <td>-2.731098e-01</td>\n",
       "      <td>-1.403567e-02</td>\n",
       "      <td>-4.433183e-02</td>\n",
       "      <td>-2.342484e-01</td>\n",
       "      <td>-1.306826e-01</td>\n",
       "      <td>-2.017009e-01</td>\n",
       "      <td>-2.825966e-01</td>\n",
       "      <td>1.634806e-02</td>\n",
       "      <td>2.332538e-02</td>\n",
       "      <td>-1.864585e-01</td>\n",
       "      <td>-2.918437e-01</td>\n",
       "      <td>4.618863e-01</td>\n",
       "    </tr>\n",
       "    <tr>\n",
       "      <th>75%</th>\n",
       "      <td>5.791378e-01</td>\n",
       "      <td>6.630818e-01</td>\n",
       "      <td>8.095270e-01</td>\n",
       "      <td>1.173580e-01</td>\n",
       "      <td>3.226077e-01</td>\n",
       "      <td>5.688955e-01</td>\n",
       "      <td>4.886186e-01</td>\n",
       "      <td>6.834952e-01</td>\n",
       "      <td>6.067185e-01</td>\n",
       "      <td>5.887157e-01</td>\n",
       "      <td>6.090677e-01</td>\n",
       "      <td>4.618863e-01</td>\n",
       "    </tr>\n",
       "    <tr>\n",
       "      <th>max</th>\n",
       "      <td>2.939208e+00</td>\n",
       "      <td>2.725212e+00</td>\n",
       "      <td>2.612118e+00</td>\n",
       "      <td>9.610730e+00</td>\n",
       "      <td>6.985976e+00</td>\n",
       "      <td>5.385122e+00</td>\n",
       "      <td>3.830551e+00</td>\n",
       "      <td>2.387076e+00</td>\n",
       "      <td>2.721518e+00</td>\n",
       "      <td>3.281426e+00</td>\n",
       "      <td>3.111599e+00</td>\n",
       "      <td>3.046250e+00</td>\n",
       "    </tr>\n",
       "  </tbody>\n",
       "</table>\n",
       "</div>"
      ],
      "text/plain": [
       "       fixed acidity  volatile acidity   citric acid  residual sugar  \\\n",
       "count   1.410000e+03      1.410000e+03  1.410000e+03    1.410000e+03   \n",
       "mean   -1.433621e-14     -1.956827e-15  5.386550e-15   -6.842438e-17   \n",
       "std     1.000000e+00      1.000000e+00  1.000000e+00    1.000000e+00   \n",
       "min    -2.043162e+00     -2.476281e+00 -1.399663e+00   -1.376969e+00   \n",
       "25%    -7.320123e-01     -7.527093e-01 -9.117440e-01   -4.979532e-01   \n",
       "50%    -2.731098e-01     -1.403567e-02 -4.433183e-02   -2.342484e-01   \n",
       "75%     5.791378e-01      6.630818e-01  8.095270e-01    1.173580e-01   \n",
       "max     2.939208e+00      2.725212e+00  2.612118e+00    9.610730e+00   \n",
       "\n",
       "          chlorides  free sulfur dioxide  total sulfur dioxide       density  \\\n",
       "count  1.410000e+03         1.410000e+03          1.410000e+03  1.410000e+03   \n",
       "mean   1.856994e-14         9.702641e-17         -6.406420e-17  9.459297e-14   \n",
       "std    1.000000e+00         1.000000e+00          1.000000e+00  1.000000e+00   \n",
       "min   -1.989173e+00        -1.261271e+00         -1.182348e+00 -4.013890e+00   \n",
       "25%   -5.386440e-01        -7.796481e-01         -7.646060e-01 -6.523188e-01   \n",
       "50%   -1.306826e-01        -2.017009e-01         -2.825966e-01  1.634806e-02   \n",
       "75%    3.226077e-01         5.688955e-01          4.886186e-01  6.834952e-01   \n",
       "max    6.985976e+00         5.385122e+00          3.830551e+00  2.387076e+00   \n",
       "\n",
       "                 pH     sulphates       alcohol       quality  \n",
       "count  1.410000e+03  1.410000e+03  1.410000e+03  1.410000e+03  \n",
       "mean   1.595965e-15 -4.220757e-15  1.791483e-14  7.326291e-16  \n",
       "std    1.000000e+00  1.000000e+00  1.000000e+00  1.000000e+00  \n",
       "min   -3.185337e+00 -2.022397e+00 -1.693261e+00 -3.414660e+00  \n",
       "25%   -7.059160e-01 -7.168408e-01 -8.924513e-01 -8.302957e-01  \n",
       "50%    2.332538e-02 -1.864585e-01 -2.918437e-01  4.618863e-01  \n",
       "75%    6.067185e-01  5.887157e-01  6.090677e-01  4.618863e-01  \n",
       "max    2.721518e+00  3.281426e+00  3.111599e+00  3.046250e+00  "
      ]
     },
     "execution_count": 25,
     "metadata": {},
     "output_type": "execute_result"
    }
   ],
   "source": [
    "data_stand_R = (data_R - data_R.mean(axis = 0))/data_R.std(axis = 0)\n",
    "data_stand_R.describe()"
   ]
  },
  {
   "cell_type": "code",
   "execution_count": 26,
   "id": "e547f7a5",
   "metadata": {},
   "outputs": [
    {
     "data": {
      "text/html": [
       "<div>\n",
       "<style scoped>\n",
       "    .dataframe tbody tr th:only-of-type {\n",
       "        vertical-align: middle;\n",
       "    }\n",
       "\n",
       "    .dataframe tbody tr th {\n",
       "        vertical-align: top;\n",
       "    }\n",
       "\n",
       "    .dataframe thead th {\n",
       "        text-align: right;\n",
       "    }\n",
       "</style>\n",
       "<table border=\"1\" class=\"dataframe\">\n",
       "  <thead>\n",
       "    <tr style=\"text-align: right;\">\n",
       "      <th></th>\n",
       "      <th>fixed acidity</th>\n",
       "      <th>volatile acidity</th>\n",
       "      <th>citric acid</th>\n",
       "      <th>residual sugar</th>\n",
       "      <th>chlorides</th>\n",
       "      <th>free sulfur dioxide</th>\n",
       "      <th>total sulfur dioxide</th>\n",
       "      <th>density</th>\n",
       "      <th>pH</th>\n",
       "      <th>sulphates</th>\n",
       "      <th>alcohol</th>\n",
       "      <th>quality</th>\n",
       "    </tr>\n",
       "  </thead>\n",
       "  <tbody>\n",
       "    <tr>\n",
       "      <th>count</th>\n",
       "      <td>4.543000e+03</td>\n",
       "      <td>4.543000e+03</td>\n",
       "      <td>4.543000e+03</td>\n",
       "      <td>4.543000e+03</td>\n",
       "      <td>4.543000e+03</td>\n",
       "      <td>4.543000e+03</td>\n",
       "      <td>4.543000e+03</td>\n",
       "      <td>4.543000e+03</td>\n",
       "      <td>4.543000e+03</td>\n",
       "      <td>4.543000e+03</td>\n",
       "      <td>4.543000e+03</td>\n",
       "      <td>4.543000e+03</td>\n",
       "    </tr>\n",
       "    <tr>\n",
       "      <th>mean</th>\n",
       "      <td>1.904310e-14</td>\n",
       "      <td>-7.410146e-15</td>\n",
       "      <td>5.513168e-14</td>\n",
       "      <td>-2.896404e-15</td>\n",
       "      <td>-5.717685e-15</td>\n",
       "      <td>-2.193320e-16</td>\n",
       "      <td>6.069203e-16</td>\n",
       "      <td>1.528448e-12</td>\n",
       "      <td>2.279254e-14</td>\n",
       "      <td>-2.339719e-14</td>\n",
       "      <td>-2.521362e-14</td>\n",
       "      <td>5.136828e-16</td>\n",
       "    </tr>\n",
       "    <tr>\n",
       "      <th>std</th>\n",
       "      <td>1.000000e+00</td>\n",
       "      <td>1.000000e+00</td>\n",
       "      <td>1.000000e+00</td>\n",
       "      <td>1.000000e+00</td>\n",
       "      <td>1.000000e+00</td>\n",
       "      <td>1.000000e+00</td>\n",
       "      <td>1.000000e+00</td>\n",
       "      <td>1.000000e+00</td>\n",
       "      <td>1.000000e+00</td>\n",
       "      <td>1.000000e+00</td>\n",
       "      <td>1.000000e+00</td>\n",
       "      <td>1.000000e+00</td>\n",
       "    </tr>\n",
       "    <tr>\n",
       "      <th>min</th>\n",
       "      <td>-2.320574e+00</td>\n",
       "      <td>-1.679158e+00</td>\n",
       "      <td>-2.942609e+00</td>\n",
       "      <td>-1.138937e+00</td>\n",
       "      <td>-1.347843e+00</td>\n",
       "      <td>-2.046109e+00</td>\n",
       "      <td>-2.932802e+00</td>\n",
       "      <td>-1.913328e+00</td>\n",
       "      <td>-2.223479e+00</td>\n",
       "      <td>-1.894384e+00</td>\n",
       "      <td>-1.592213e+00</td>\n",
       "      <td>-3.294978e+00</td>\n",
       "    </tr>\n",
       "    <tr>\n",
       "      <th>25%</th>\n",
       "      <td>-7.060560e-01</td>\n",
       "      <td>-6.959213e-01</td>\n",
       "      <td>-5.576258e-01</td>\n",
       "      <td>-9.530824e-01</td>\n",
       "      <td>-4.870464e-01</td>\n",
       "      <td>-7.573757e-01</td>\n",
       "      <td>-7.127966e-01</td>\n",
       "      <td>-8.031661e-01</td>\n",
       "      <td>-6.893602e-01</td>\n",
       "      <td>-7.253705e-01</td>\n",
       "      <td>-8.346759e-01</td>\n",
       "      <td>-1.005952e+00</td>\n",
       "    </tr>\n",
       "    <tr>\n",
       "      <th>50%</th>\n",
       "      <td>-8.508757e-02</td>\n",
       "      <td>-1.784285e-01</td>\n",
       "      <td>-1.159622e-01</td>\n",
       "      <td>-2.303165e-01</td>\n",
       "      <td>-1.326008e-01</td>\n",
       "      <td>-4.857218e-02</td>\n",
       "      <td>-9.612854e-02</td>\n",
       "      <td>-8.084925e-02</td>\n",
       "      <td>-6.176628e-02</td>\n",
       "      <td>-9.590187e-02</td>\n",
       "      <td>-7.713894e-02</td>\n",
       "      <td>1.385609e-01</td>\n",
       "    </tr>\n",
       "    <tr>\n",
       "      <th>75%</th>\n",
       "      <td>5.358808e-01</td>\n",
       "      <td>4.425628e-01</td>\n",
       "      <td>5.023668e-01</td>\n",
       "      <td>7.196046e-01</td>\n",
       "      <td>2.218448e-01</td>\n",
       "      <td>6.602314e-01</td>\n",
       "      <td>7.178733e-01</td>\n",
       "      <td>7.179692e-01</td>\n",
       "      <td>6.355603e-01</td>\n",
       "      <td>5.335667e-01</td>\n",
       "      <td>7.294976e-01</td>\n",
       "      <td>1.385609e-01</td>\n",
       "    </tr>\n",
       "    <tr>\n",
       "      <th>max</th>\n",
       "      <td>6.124596e+00</td>\n",
       "      <td>6.755975e+00</td>\n",
       "      <td>3.594012e+00</td>\n",
       "      <td>2.681398e+00</td>\n",
       "      <td>9.842511e+00</td>\n",
       "      <td>3.237699e+00</td>\n",
       "      <td>2.641878e+00</td>\n",
       "      <td>2.338734e+00</td>\n",
       "      <td>3.494599e+00</td>\n",
       "      <td>4.670075e+00</td>\n",
       "      <td>2.532155e+00</td>\n",
       "      <td>3.572100e+00</td>\n",
       "    </tr>\n",
       "  </tbody>\n",
       "</table>\n",
       "</div>"
      ],
      "text/plain": [
       "       fixed acidity  volatile acidity   citric acid  residual sugar  \\\n",
       "count   4.543000e+03      4.543000e+03  4.543000e+03    4.543000e+03   \n",
       "mean    1.904310e-14     -7.410146e-15  5.513168e-14   -2.896404e-15   \n",
       "std     1.000000e+00      1.000000e+00  1.000000e+00    1.000000e+00   \n",
       "min    -2.320574e+00     -1.679158e+00 -2.942609e+00   -1.138937e+00   \n",
       "25%    -7.060560e-01     -6.959213e-01 -5.576258e-01   -9.530824e-01   \n",
       "50%    -8.508757e-02     -1.784285e-01 -1.159622e-01   -2.303165e-01   \n",
       "75%     5.358808e-01      4.425628e-01  5.023668e-01    7.196046e-01   \n",
       "max     6.124596e+00      6.755975e+00  3.594012e+00    2.681398e+00   \n",
       "\n",
       "          chlorides  free sulfur dioxide  total sulfur dioxide       density  \\\n",
       "count  4.543000e+03         4.543000e+03          4.543000e+03  4.543000e+03   \n",
       "mean  -5.717685e-15        -2.193320e-16          6.069203e-16  1.528448e-12   \n",
       "std    1.000000e+00         1.000000e+00          1.000000e+00  1.000000e+00   \n",
       "min   -1.347843e+00        -2.046109e+00         -2.932802e+00 -1.913328e+00   \n",
       "25%   -4.870464e-01        -7.573757e-01         -7.127966e-01 -8.031661e-01   \n",
       "50%   -1.326008e-01        -4.857218e-02         -9.612854e-02 -8.084925e-02   \n",
       "75%    2.218448e-01         6.602314e-01          7.178733e-01  7.179692e-01   \n",
       "max    9.842511e+00         3.237699e+00          2.641878e+00  2.338734e+00   \n",
       "\n",
       "                 pH     sulphates       alcohol       quality  \n",
       "count  4.543000e+03  4.543000e+03  4.543000e+03  4.543000e+03  \n",
       "mean   2.279254e-14 -2.339719e-14 -2.521362e-14  5.136828e-16  \n",
       "std    1.000000e+00  1.000000e+00  1.000000e+00  1.000000e+00  \n",
       "min   -2.223479e+00 -1.894384e+00 -1.592213e+00 -3.294978e+00  \n",
       "25%   -6.893602e-01 -7.253705e-01 -8.346759e-01 -1.005952e+00  \n",
       "50%   -6.176628e-02 -9.590187e-02 -7.713894e-02  1.385609e-01  \n",
       "75%    6.355603e-01  5.335667e-01  7.294976e-01  1.385609e-01  \n",
       "max    3.494599e+00  4.670075e+00  2.532155e+00  3.572100e+00  "
      ]
     },
     "execution_count": 26,
     "metadata": {},
     "output_type": "execute_result"
    }
   ],
   "source": [
    "data_stand_W = (data_W - data_W.mean(axis = 0))/data_W.std(axis = 0)\n",
    "data_stand_W.describe()"
   ]
  },
  {
   "cell_type": "markdown",
   "id": "4dcd059e",
   "metadata": {},
   "source": [
    "## Отбор признаков "
   ]
  },
  {
   "cell_type": "markdown",
   "id": "4524ce21",
   "metadata": {},
   "source": [
    "- Обучающую и тестовую выборку разделим в соотношении 9:1"
   ]
  },
  {
   "cell_type": "code",
   "execution_count": 27,
   "id": "18427eec",
   "metadata": {},
   "outputs": [],
   "source": [
    "#redwhite\n",
    "X_RW = data_stand.drop(['quality'], axis=1)\n",
    "y_RW = data['quality']\n",
    "\n",
    "#red\n",
    "X_R = data_stand_R.drop(['quality'], axis=1)\n",
    "y_R = data_R['quality']\n",
    "\n",
    "#white\n",
    "X_W= data_stand_W.drop(['quality'], axis=1)\n",
    "y_W = data_W['quality']"
   ]
  },
  {
   "cell_type": "code",
   "execution_count": 28,
   "id": "c8dc206e",
   "metadata": {},
   "outputs": [
    {
     "name": "stdout",
     "output_type": "stream",
     "text": [
      "Количество элементов (RW) в обучающей и тестовой выборке:  5357 596\n",
      "Количество элементов (R) в обучающей и тестовой выборке:  1269 141\n",
      "Количество элементов (W) в обучающей и тестовой выборке:  4088 455\n"
     ]
    }
   ],
   "source": [
    "from sklearn.model_selection import train_test_split\n",
    "X_train_RW, X_test_RW, y_train_RW, y_test_RW = train_test_split(X_RW, y_RW, test_size = 0.1, random_state = 42)\n",
    "N_train_RW, _ = X_train_RW.shape \n",
    "N_test_RW,  _ = X_test_RW.shape \n",
    "print('Количество элементов (RW) в обучающей и тестовой выборке: ', N_train_RW, N_test_RW)\n",
    "\n",
    "X_train_R, X_test_R, y_train_R, y_test_R = train_test_split(X_R, y_R, test_size = 0.1, random_state = 42)\n",
    "N_train_R, _ = X_train_R.shape \n",
    "N_test_R,  _ = X_test_R.shape \n",
    "print('Количество элементов (R) в обучающей и тестовой выборке: ', N_train_R, N_test_R)\n",
    "\n",
    "X_train_W, X_test_W, y_train_W, y_test_W = train_test_split(X_W, y_W, test_size = 0.1, random_state = 42)\n",
    "N_train_W, _ = X_train_W.shape \n",
    "N_test_W,  _ = X_test_W.shape \n",
    "print('Количество элементов (W) в обучающей и тестовой выборке: ', N_train_W, N_test_W)"
   ]
  },
  {
   "cell_type": "markdown",
   "id": "b843205d",
   "metadata": {},
   "source": [
    "# kNN"
   ]
  },
  {
   "cell_type": "code",
   "execution_count": 29,
   "id": "f7da2278",
   "metadata": {},
   "outputs": [
    {
     "data": {
      "text/plain": [
       "0.4412751677852349"
      ]
     },
     "execution_count": 29,
     "metadata": {},
     "output_type": "execute_result"
    }
   ],
   "source": [
    "from sklearn.neighbors import KNeighborsClassifier\n",
    "\n",
    "X_train = X_train_RW; y_train = y_train_RW; X_test = X_test_RW; y_test = y_test_RW\n",
    "knn = KNeighborsClassifier(n_neighbors = 5)\n",
    "knn.fit(X_train, y_train)\n",
    "y_test_predict = knn.predict(X_test)\n",
    "err_test  = np.mean(y_test  != y_test_predict)\n",
    "\n",
    "err_test"
   ]
  },
  {
   "cell_type": "code",
   "execution_count": 30,
   "id": "f614ca64",
   "metadata": {},
   "outputs": [],
   "source": [
    "from sklearn.model_selection import GridSearchCV"
   ]
  },
  {
   "cell_type": "markdown",
   "id": "dd2604e0",
   "metadata": {},
   "source": [
    "- Подберем оптимальное количество соседей"
   ]
  },
  {
   "cell_type": "code",
   "execution_count": 31,
   "id": "4f42961e",
   "metadata": {},
   "outputs": [
    {
     "name": "stdout",
     "output_type": "stream",
     "text": [
      "Красное и белое вино: \n",
      "Ошибка на кросс-валидации и оптимальное кол-во соседей:  0.3955553255270007 1\n",
      "Ошибка на обучающей и на тестовой выборке:  0.0 0.34731543624161076\n",
      "Красное вино: \n",
      "Ошибка на кросс-валидации и оптимальное кол-во соседей:  0.39243498817966904 1\n",
      "Ошибка на обучающей и на тестовой выборке:  0.0 0.3404255319148936\n",
      "Белое вино: \n",
      "Ошибка на кросс-валидации и оптимальное кол-во соседей:  0.4053335674775166 1\n",
      "Ошибка на обучающей и на тестовой выборке:  0.0 0.3362637362637363\n"
     ]
    }
   ],
   "source": [
    "#RW\n",
    "X_train = X_train_RW; y_train = y_train_RW; X_test = X_test_RW; y_test = y_test_RW\n",
    "grid = GridSearchCV(KNeighborsClassifier(), param_grid = {'n_neighbors': range(1, 21)}, cv = 3)\n",
    "grid.fit(X_train, y_train)\n",
    "print('Красное и белое вино: ')\n",
    "best_cv_err = 1 - grid.best_score_; best_n_neighbors = grid.best_estimator_.n_neighbors\n",
    "print('Ошибка на кросс-валидации и оптимальное кол-во соседей: ', best_cv_err, best_n_neighbors)\n",
    "\n",
    "knn = KNeighborsClassifier(n_neighbors = best_n_neighbors).fit(X_train, y_train)\n",
    "err_train = np.mean(y_train != knn.predict(X_train)); err_test  = np.mean(y_test  != knn.predict(X_test))\n",
    "print('Ошибка на обучающей и на тестовой выборке: ', err_train, err_test)\n",
    "\n",
    "#R\n",
    "X_train = X_train_R; y_train = y_train_R; X_test = X_test_R; y_test = y_test_R\n",
    "grid = GridSearchCV(KNeighborsClassifier(), param_grid = {'n_neighbors': range(1, 21)}, cv = 3)\n",
    "grid.fit(X_train, y_train)\n",
    "print('Красное вино: ')\n",
    "best_cv_err = 1 - grid.best_score_; best_n_neighbors = grid.best_estimator_.n_neighbors\n",
    "print('Ошибка на кросс-валидации и оптимальное кол-во соседей: ', best_cv_err, best_n_neighbors)\n",
    "\n",
    "knn = KNeighborsClassifier(n_neighbors = best_n_neighbors).fit(X_train, y_train)\n",
    "err_train = np.mean(y_train != knn.predict(X_train)); err_test  = np.mean(y_test  != knn.predict(X_test))\n",
    "print('Ошибка на обучающей и на тестовой выборке: ', err_train, err_test)\n",
    "\n",
    "#W\n",
    "X_train = X_train_W; y_train = y_train_W; X_test = X_test_W; y_test = y_test_W\n",
    "grid = GridSearchCV(KNeighborsClassifier(), param_grid = {'n_neighbors': range(1, 21)}, cv = 3)\n",
    "grid.fit(X_train, y_train)\n",
    "print('Белое вино: ')\n",
    "best_cv_err = 1 - grid.best_score_; best_n_neighbors = grid.best_estimator_.n_neighbors\n",
    "print('Ошибка на кросс-валидации и оптимальное кол-во соседей: ', best_cv_err, best_n_neighbors)\n",
    "\n",
    "knn = KNeighborsClassifier(n_neighbors = best_n_neighbors).fit(X_train, y_train)\n",
    "err_train = np.mean(y_train != knn.predict(X_train)); err_test  = np.mean(y_test  != knn.predict(X_test))\n",
    "print('Ошибка на обучающей и на тестовой выборке: ', err_train, err_test)"
   ]
  },
  {
   "cell_type": "markdown",
   "id": "975bcfe4",
   "metadata": {},
   "source": [
    "- По полученным результатам видно, что точность предсказания довольно низкая. Это происходит из-за сильной несбалансированности классов, а так же малого размера выборки:"
   ]
  },
  {
   "cell_type": "code",
   "execution_count": 32,
   "id": "8041ed0a",
   "metadata": {},
   "outputs": [
    {
     "data": {
      "image/png": "[encoded data removed]",
      "text/plain": [
       "<Figure size 432x288 with 1 Axes>"
      ]
     },
     "metadata": {},
     "output_type": "display_data"
    }
   ],
   "source": [
    "plt.pie(data.quality.value_counts(), colors = sns.color_palette(\"Spectral\"), autopct = '%1.1f%%')\n",
    "pass"
   ]
  },
  {
   "cell_type": "code",
   "execution_count": 33,
   "id": "32fd806d",
   "metadata": {},
   "outputs": [
    {
     "data": {
      "text/plain": [
       "6    2619\n",
       "5    1976\n",
       "7     980\n",
       "4     187\n",
       "8     173\n",
       "3      14\n",
       "9       4\n",
       "Name: quality, dtype: int64"
      ]
     },
     "execution_count": 33,
     "metadata": {},
     "output_type": "execute_result"
    }
   ],
   "source": [
    "data.quality.value_counts()"
   ]
  },
  {
   "cell_type": "markdown",
   "id": "f50a0e1c",
   "metadata": {},
   "source": [
    "- 14 элеметов принадлежат классу качества 3, и 4 элемента принадлежат классу качества 9. Из-за этого, элементы из таких классов очень сложно предсказать.\n",
    "- Для решения этой проблемы, можем объединить классы следующим образом: (3, 4, 5) -> 0, (6, 7, 8, 9) -> 1. Таким образом, мы получим всего два класса и сможем сделать хотя бы примерное предположение о качестве."
   ]
  },
  {
   "cell_type": "code",
   "execution_count": 34,
   "id": "0d67aa38",
   "metadata": {},
   "outputs": [],
   "source": [
    "data.at[data['quality'] == 3, 'quality'] = 0\n",
    "data.at[data['quality'] == 4, 'quality'] = 0\n",
    "data.at[data['quality'] == 5, 'quality'] = 0\n",
    "\n",
    "data.at[data['quality'] == 6, 'quality'] = 1\n",
    "data.at[data['quality'] == 7, 'quality'] = 1\n",
    "data.at[data['quality'] == 8, 'quality'] = 1\n",
    "data.at[data['quality'] == 9, 'quality'] = 1    "
   ]
  },
  {
   "cell_type": "code",
   "execution_count": 35,
   "id": "95897cf9",
   "metadata": {},
   "outputs": [
    {
     "data": {
      "image/png": "[encoded data removed]",
      "text/plain": [
       "<Figure size 432x288 with 1 Axes>"
      ]
     },
     "metadata": {},
     "output_type": "display_data"
    }
   ],
   "source": [
    "plt.pie(data.quality.value_counts(), colors = sns.color_palette(\"Spectral\"), autopct = '%1.1f%%')\n",
    "pass"
   ]
  },
  {
   "cell_type": "markdown",
   "id": "1683c4b2",
   "metadata": {},
   "source": [
    "- Полученные данные получились более сбалансированными"
   ]
  },
  {
   "cell_type": "code",
   "execution_count": 36,
   "id": "b5a6bdbc",
   "metadata": {},
   "outputs": [],
   "source": [
    "data_R = data[data['type'] == 0]\n",
    "data_R = data_R.drop(['type'], axis=1)\n",
    "\n",
    "data_W = data[data['type'] == 1]\n",
    "data_W = data_W.drop(['type'], axis=1)"
   ]
  },
  {
   "cell_type": "code",
   "execution_count": 37,
   "id": "d25bc428",
   "metadata": {},
   "outputs": [
    {
     "data": {
      "text/html": [
       "<div>\n",
       "<style scoped>\n",
       "    .dataframe tbody tr th:only-of-type {\n",
       "        vertical-align: middle;\n",
       "    }\n",
       "\n",
       "    .dataframe tbody tr th {\n",
       "        vertical-align: top;\n",
       "    }\n",
       "\n",
       "    .dataframe thead th {\n",
       "        text-align: right;\n",
       "    }\n",
       "</style>\n",
       "<table border=\"1\" class=\"dataframe\">\n",
       "  <thead>\n",
       "    <tr style=\"text-align: right;\">\n",
       "      <th></th>\n",
       "      <th>type</th>\n",
       "      <th>fixed acidity</th>\n",
       "      <th>volatile acidity</th>\n",
       "      <th>citric acid</th>\n",
       "      <th>residual sugar</th>\n",
       "      <th>chlorides</th>\n",
       "      <th>free sulfur dioxide</th>\n",
       "      <th>total sulfur dioxide</th>\n",
       "      <th>density</th>\n",
       "      <th>pH</th>\n",
       "      <th>sulphates</th>\n",
       "      <th>alcohol</th>\n",
       "      <th>quality</th>\n",
       "    </tr>\n",
       "  </thead>\n",
       "  <tbody>\n",
       "    <tr>\n",
       "      <th>count</th>\n",
       "      <td>5.953000e+03</td>\n",
       "      <td>5.953000e+03</td>\n",
       "      <td>5.953000e+03</td>\n",
       "      <td>5.953000e+03</td>\n",
       "      <td>5.953000e+03</td>\n",
       "      <td>5.953000e+03</td>\n",
       "      <td>5.953000e+03</td>\n",
       "      <td>5.953000e+03</td>\n",
       "      <td>5.953000e+03</td>\n",
       "      <td>5.953000e+03</td>\n",
       "      <td>5.953000e+03</td>\n",
       "      <td>5.953000e+03</td>\n",
       "      <td>5.953000e+03</td>\n",
       "    </tr>\n",
       "    <tr>\n",
       "      <th>mean</th>\n",
       "      <td>-2.337089e-14</td>\n",
       "      <td>2.302173e-14</td>\n",
       "      <td>2.027644e-15</td>\n",
       "      <td>4.199019e-14</td>\n",
       "      <td>-1.416481e-15</td>\n",
       "      <td>-1.468911e-14</td>\n",
       "      <td>7.307367e-16</td>\n",
       "      <td>-1.427121e-15</td>\n",
       "      <td>1.017317e-12</td>\n",
       "      <td>-1.688822e-14</td>\n",
       "      <td>-1.910195e-14</td>\n",
       "      <td>-4.687746e-14</td>\n",
       "      <td>1.667778e-15</td>\n",
       "    </tr>\n",
       "    <tr>\n",
       "      <th>std</th>\n",
       "      <td>1.000000e+00</td>\n",
       "      <td>1.000000e+00</td>\n",
       "      <td>1.000000e+00</td>\n",
       "      <td>1.000000e+00</td>\n",
       "      <td>1.000000e+00</td>\n",
       "      <td>1.000000e+00</td>\n",
       "      <td>1.000000e+00</td>\n",
       "      <td>1.000000e+00</td>\n",
       "      <td>1.000000e+00</td>\n",
       "      <td>1.000000e+00</td>\n",
       "      <td>1.000000e+00</td>\n",
       "      <td>1.000000e+00</td>\n",
       "      <td>1.000000e+00</td>\n",
       "    </tr>\n",
       "    <tr>\n",
       "      <th>min</th>\n",
       "      <td>-5.570597e-01</td>\n",
       "      <td>-1.866561e+00</td>\n",
       "      <td>-1.415439e+00</td>\n",
       "      <td>-2.297145e+00</td>\n",
       "      <td>-1.007304e+00</td>\n",
       "      <td>-1.380425e+00</td>\n",
       "      <td>-1.656615e+00</td>\n",
       "      <td>-1.949518e+00</td>\n",
       "      <td>-2.131576e+00</td>\n",
       "      <td>-2.297355e+00</td>\n",
       "      <td>-1.888154e+00</td>\n",
       "      <td>-1.628811e+00</td>\n",
       "      <td>-1.316892e+00</td>\n",
       "    </tr>\n",
       "    <tr>\n",
       "      <th>25%</th>\n",
       "      <td>-5.570597e-01</td>\n",
       "      <td>-6.721330e-01</td>\n",
       "      <td>-6.764591e-01</td>\n",
       "      <td>-4.762233e-01</td>\n",
       "      <td>-7.884654e-01</td>\n",
       "      <td>-6.355097e-01</td>\n",
       "      <td>-8.081291e-01</td>\n",
       "      <td>-6.751096e-01</td>\n",
       "      <td>-8.073095e-01</td>\n",
       "      <td>-7.182363e-01</td>\n",
       "      <td>-7.345025e-01</td>\n",
       "      <td>-8.440256e-01</td>\n",
       "      <td>-1.316892e+00</td>\n",
       "    </tr>\n",
       "    <tr>\n",
       "      <th>50%</th>\n",
       "      <td>-5.570597e-01</td>\n",
       "      <td>-1.602350e-01</td>\n",
       "      <td>-2.909041e-01</td>\n",
       "      <td>-3.920198e-02</td>\n",
       "      <td>-5.258593e-01</td>\n",
       "      <td>-2.826551e-01</td>\n",
       "      <td>-8.085567e-02</td>\n",
       "      <td>5.312352e-02</td>\n",
       "      <td>8.026848e-02</td>\n",
       "      <td>-6.027026e-02</td>\n",
       "      <td>-1.192216e-01</td>\n",
       "      <td>-1.464385e-01</td>\n",
       "      <td>7.592359e-01</td>\n",
       "    </tr>\n",
       "    <tr>\n",
       "      <th>75%</th>\n",
       "      <td>-5.570597e-01</td>\n",
       "      <td>3.516629e-01</td>\n",
       "      <td>4.159466e-01</td>\n",
       "      <td>5.434931e-01</td>\n",
       "      <td>5.902168e-01</td>\n",
       "      <td>3.446419e-01</td>\n",
       "      <td>6.464177e-01</td>\n",
       "      <td>7.267392e-01</td>\n",
       "      <td>7.974315e-01</td>\n",
       "      <td>6.634924e-01</td>\n",
       "      <td>5.729693e-01</td>\n",
       "      <td>7.255454e-01</td>\n",
       "      <td>7.592359e-01</td>\n",
       "    </tr>\n",
       "    <tr>\n",
       "      <th>max</th>\n",
       "      <td>1.794838e+00</td>\n",
       "      <td>4.702795e+00</td>\n",
       "      <td>4.046589e+00</td>\n",
       "      <td>3.092784e+00</td>\n",
       "      <td>3.041207e+00</td>\n",
       "      <td>7.284115e+00</td>\n",
       "      <td>3.313087e+00</td>\n",
       "      <td>2.347058e+00</td>\n",
       "      <td>2.111047e+00</td>\n",
       "      <td>3.097967e+00</td>\n",
       "      <td>3.957014e+00</td>\n",
       "      <td>2.643910e+00</td>\n",
       "      <td>7.592359e-01</td>\n",
       "    </tr>\n",
       "  </tbody>\n",
       "</table>\n",
       "</div>"
      ],
      "text/plain": [
       "               type  fixed acidity  volatile acidity   citric acid  \\\n",
       "count  5.953000e+03   5.953000e+03      5.953000e+03  5.953000e+03   \n",
       "mean  -2.337089e-14   2.302173e-14      2.027644e-15  4.199019e-14   \n",
       "std    1.000000e+00   1.000000e+00      1.000000e+00  1.000000e+00   \n",
       "min   -5.570597e-01  -1.866561e+00     -1.415439e+00 -2.297145e+00   \n",
       "25%   -5.570597e-01  -6.721330e-01     -6.764591e-01 -4.762233e-01   \n",
       "50%   -5.570597e-01  -1.602350e-01     -2.909041e-01 -3.920198e-02   \n",
       "75%   -5.570597e-01   3.516629e-01      4.159466e-01  5.434931e-01   \n",
       "max    1.794838e+00   4.702795e+00      4.046589e+00  3.092784e+00   \n",
       "\n",
       "       residual sugar     chlorides  free sulfur dioxide  \\\n",
       "count    5.953000e+03  5.953000e+03         5.953000e+03   \n",
       "mean    -1.416481e-15 -1.468911e-14         7.307367e-16   \n",
       "std      1.000000e+00  1.000000e+00         1.000000e+00   \n",
       "min     -1.007304e+00 -1.380425e+00        -1.656615e+00   \n",
       "25%     -7.884654e-01 -6.355097e-01        -8.081291e-01   \n",
       "50%     -5.258593e-01 -2.826551e-01        -8.085567e-02   \n",
       "75%      5.902168e-01  3.446419e-01         6.464177e-01   \n",
       "max      3.041207e+00  7.284115e+00         3.313087e+00   \n",
       "\n",
       "       total sulfur dioxide       density            pH     sulphates  \\\n",
       "count          5.953000e+03  5.953000e+03  5.953000e+03  5.953000e+03   \n",
       "mean          -1.427121e-15  1.017317e-12 -1.688822e-14 -1.910195e-14   \n",
       "std            1.000000e+00  1.000000e+00  1.000000e+00  1.000000e+00   \n",
       "min           -1.949518e+00 -2.131576e+00 -2.297355e+00 -1.888154e+00   \n",
       "25%           -6.751096e-01 -8.073095e-01 -7.182363e-01 -7.345025e-01   \n",
       "50%            5.312352e-02  8.026848e-02 -6.027026e-02 -1.192216e-01   \n",
       "75%            7.267392e-01  7.974315e-01  6.634924e-01  5.729693e-01   \n",
       "max            2.347058e+00  2.111047e+00  3.097967e+00  3.957014e+00   \n",
       "\n",
       "            alcohol       quality  \n",
       "count  5.953000e+03  5.953000e+03  \n",
       "mean  -4.687746e-14  1.667778e-15  \n",
       "std    1.000000e+00  1.000000e+00  \n",
       "min   -1.628811e+00 -1.316892e+00  \n",
       "25%   -8.440256e-01 -1.316892e+00  \n",
       "50%   -1.464385e-01  7.592359e-01  \n",
       "75%    7.255454e-01  7.592359e-01  \n",
       "max    2.643910e+00  7.592359e-01  "
      ]
     },
     "execution_count": 37,
     "metadata": {},
     "output_type": "execute_result"
    }
   ],
   "source": [
    "data_stand = (data - data.mean(axis = 0))/data.std(axis = 0)\n",
    "data_stand.describe()"
   ]
  },
  {
   "cell_type": "code",
   "execution_count": 38,
   "id": "1106cd91",
   "metadata": {},
   "outputs": [
    {
     "data": {
      "text/html": [
       "<div>\n",
       "<style scoped>\n",
       "    .dataframe tbody tr th:only-of-type {\n",
       "        vertical-align: middle;\n",
       "    }\n",
       "\n",
       "    .dataframe tbody tr th {\n",
       "        vertical-align: top;\n",
       "    }\n",
       "\n",
       "    .dataframe thead th {\n",
       "        text-align: right;\n",
       "    }\n",
       "</style>\n",
       "<table border=\"1\" class=\"dataframe\">\n",
       "  <thead>\n",
       "    <tr style=\"text-align: right;\">\n",
       "      <th></th>\n",
       "      <th>fixed acidity</th>\n",
       "      <th>volatile acidity</th>\n",
       "      <th>citric acid</th>\n",
       "      <th>residual sugar</th>\n",
       "      <th>chlorides</th>\n",
       "      <th>free sulfur dioxide</th>\n",
       "      <th>total sulfur dioxide</th>\n",
       "      <th>density</th>\n",
       "      <th>pH</th>\n",
       "      <th>sulphates</th>\n",
       "      <th>alcohol</th>\n",
       "      <th>quality</th>\n",
       "    </tr>\n",
       "  </thead>\n",
       "  <tbody>\n",
       "    <tr>\n",
       "      <th>count</th>\n",
       "      <td>4.543000e+03</td>\n",
       "      <td>4.543000e+03</td>\n",
       "      <td>4.543000e+03</td>\n",
       "      <td>4.543000e+03</td>\n",
       "      <td>4.543000e+03</td>\n",
       "      <td>4.543000e+03</td>\n",
       "      <td>4.543000e+03</td>\n",
       "      <td>4.543000e+03</td>\n",
       "      <td>4.543000e+03</td>\n",
       "      <td>4.543000e+03</td>\n",
       "      <td>4.543000e+03</td>\n",
       "      <td>4.543000e+03</td>\n",
       "    </tr>\n",
       "    <tr>\n",
       "      <th>mean</th>\n",
       "      <td>1.158053e-14</td>\n",
       "      <td>-7.650177e-15</td>\n",
       "      <td>5.442122e-14</td>\n",
       "      <td>-2.646500e-15</td>\n",
       "      <td>-5.464360e-15</td>\n",
       "      <td>-2.193320e-16</td>\n",
       "      <td>6.069203e-16</td>\n",
       "      <td>1.528448e-12</td>\n",
       "      <td>2.403711e-14</td>\n",
       "      <td>-2.380750e-14</td>\n",
       "      <td>-2.521362e-14</td>\n",
       "      <td>-2.005342e-15</td>\n",
       "    </tr>\n",
       "    <tr>\n",
       "      <th>std</th>\n",
       "      <td>1.000000e+00</td>\n",
       "      <td>1.000000e+00</td>\n",
       "      <td>1.000000e+00</td>\n",
       "      <td>1.000000e+00</td>\n",
       "      <td>1.000000e+00</td>\n",
       "      <td>1.000000e+00</td>\n",
       "      <td>1.000000e+00</td>\n",
       "      <td>1.000000e+00</td>\n",
       "      <td>1.000000e+00</td>\n",
       "      <td>1.000000e+00</td>\n",
       "      <td>1.000000e+00</td>\n",
       "      <td>1.000000e+00</td>\n",
       "    </tr>\n",
       "    <tr>\n",
       "      <th>min</th>\n",
       "      <td>-2.320972e+00</td>\n",
       "      <td>-1.679584e+00</td>\n",
       "      <td>-2.942552e+00</td>\n",
       "      <td>-1.138632e+00</td>\n",
       "      <td>-1.347936e+00</td>\n",
       "      <td>-2.046109e+00</td>\n",
       "      <td>-2.932802e+00</td>\n",
       "      <td>-1.913328e+00</td>\n",
       "      <td>-2.223771e+00</td>\n",
       "      <td>-1.894494e+00</td>\n",
       "      <td>-1.592213e+00</td>\n",
       "      <td>-1.410796e+00</td>\n",
       "    </tr>\n",
       "    <tr>\n",
       "      <th>25%</th>\n",
       "      <td>-7.064813e-01</td>\n",
       "      <td>-6.963381e-01</td>\n",
       "      <td>-5.575834e-01</td>\n",
       "      <td>-9.527953e-01</td>\n",
       "      <td>-4.871370e-01</td>\n",
       "      <td>-7.573757e-01</td>\n",
       "      <td>-7.127966e-01</td>\n",
       "      <td>-8.031661e-01</td>\n",
       "      <td>-6.896731e-01</td>\n",
       "      <td>-7.254859e-01</td>\n",
       "      <td>-8.346759e-01</td>\n",
       "      <td>-1.410796e+00</td>\n",
       "    </tr>\n",
       "    <tr>\n",
       "      <th>50%</th>\n",
       "      <td>-8.552351e-02</td>\n",
       "      <td>-1.788403e-01</td>\n",
       "      <td>-1.159226e-01</td>\n",
       "      <td>-2.300954e-01</td>\n",
       "      <td>-1.326904e-01</td>\n",
       "      <td>-4.857218e-02</td>\n",
       "      <td>-9.612854e-02</td>\n",
       "      <td>-8.084925e-02</td>\n",
       "      <td>-6.208777e-02</td>\n",
       "      <td>-9.602019e-02</td>\n",
       "      <td>-7.713894e-02</td>\n",
       "      <td>7.086637e-01</td>\n",
       "    </tr>\n",
       "    <tr>\n",
       "      <th>75%</th>\n",
       "      <td>5.354343e-01</td>\n",
       "      <td>4.421570e-01</td>\n",
       "      <td>5.024026e-01</td>\n",
       "      <td>7.197387e-01</td>\n",
       "      <td>2.217562e-01</td>\n",
       "      <td>6.602314e-01</td>\n",
       "      <td>7.178733e-01</td>\n",
       "      <td>7.179692e-01</td>\n",
       "      <td>6.352293e-01</td>\n",
       "      <td>5.334455e-01</td>\n",
       "      <td>7.294976e-01</td>\n",
       "      <td>7.086637e-01</td>\n",
       "    </tr>\n",
       "    <tr>\n",
       "      <th>max</th>\n",
       "      <td>6.124055e+00</td>\n",
       "      <td>6.755630e+00</td>\n",
       "      <td>3.594028e+00</td>\n",
       "      <td>2.681353e+00</td>\n",
       "      <td>9.842450e+00</td>\n",
       "      <td>3.237699e+00</td>\n",
       "      <td>2.641878e+00</td>\n",
       "      <td>2.338734e+00</td>\n",
       "      <td>3.494229e+00</td>\n",
       "      <td>4.669934e+00</td>\n",
       "      <td>2.532155e+00</td>\n",
       "      <td>7.086637e-01</td>\n",
       "    </tr>\n",
       "  </tbody>\n",
       "</table>\n",
       "</div>"
      ],
      "text/plain": [
       "       fixed acidity  volatile acidity   citric acid  residual sugar  \\\n",
       "count   4.543000e+03      4.543000e+03  4.543000e+03    4.543000e+03   \n",
       "mean    1.158053e-14     -7.650177e-15  5.442122e-14   -2.646500e-15   \n",
       "std     1.000000e+00      1.000000e+00  1.000000e+00    1.000000e+00   \n",
       "min    -2.320972e+00     -1.679584e+00 -2.942552e+00   -1.138632e+00   \n",
       "25%    -7.064813e-01     -6.963381e-01 -5.575834e-01   -9.527953e-01   \n",
       "50%    -8.552351e-02     -1.788403e-01 -1.159226e-01   -2.300954e-01   \n",
       "75%     5.354343e-01      4.421570e-01  5.024026e-01    7.197387e-01   \n",
       "max     6.124055e+00      6.755630e+00  3.594028e+00    2.681353e+00   \n",
       "\n",
       "          chlorides  free sulfur dioxide  total sulfur dioxide       density  \\\n",
       "count  4.543000e+03         4.543000e+03          4.543000e+03  4.543000e+03   \n",
       "mean  -5.464360e-15        -2.193320e-16          6.069203e-16  1.528448e-12   \n",
       "std    1.000000e+00         1.000000e+00          1.000000e+00  1.000000e+00   \n",
       "min   -1.347936e+00        -2.046109e+00         -2.932802e+00 -1.913328e+00   \n",
       "25%   -4.871370e-01        -7.573757e-01         -7.127966e-01 -8.031661e-01   \n",
       "50%   -1.326904e-01        -4.857218e-02         -9.612854e-02 -8.084925e-02   \n",
       "75%    2.217562e-01         6.602314e-01          7.178733e-01  7.179692e-01   \n",
       "max    9.842450e+00         3.237699e+00          2.641878e+00  2.338734e+00   \n",
       "\n",
       "                 pH     sulphates       alcohol       quality  \n",
       "count  4.543000e+03  4.543000e+03  4.543000e+03  4.543000e+03  \n",
       "mean   2.403711e-14 -2.380750e-14 -2.521362e-14 -2.005342e-15  \n",
       "std    1.000000e+00  1.000000e+00  1.000000e+00  1.000000e+00  \n",
       "min   -2.223771e+00 -1.894494e+00 -1.592213e+00 -1.410796e+00  \n",
       "25%   -6.896731e-01 -7.254859e-01 -8.346759e-01 -1.410796e+00  \n",
       "50%   -6.208777e-02 -9.602019e-02 -7.713894e-02  7.086637e-01  \n",
       "75%    6.352293e-01  5.334455e-01  7.294976e-01  7.086637e-01  \n",
       "max    3.494229e+00  4.669934e+00  2.532155e+00  7.086637e-01  "
      ]
     },
     "execution_count": 38,
     "metadata": {},
     "output_type": "execute_result"
    }
   ],
   "source": [
    "data_stand_R = (data_R - data_R.mean(axis = 0))/data_R.std(axis = 0)\n",
    "data_stand_R.describe()"
   ]
  },
  {
   "cell_type": "code",
   "execution_count": 39,
   "id": "fafc88d8",
   "metadata": {},
   "outputs": [
    {
     "data": {
      "text/html": [
       "<div>\n",
       "<style scoped>\n",
       "    .dataframe tbody tr th:only-of-type {\n",
       "        vertical-align: middle;\n",
       "    }\n",
       "\n",
       "    .dataframe tbody tr th {\n",
       "        vertical-align: top;\n",
       "    }\n",
       "\n",
       "    .dataframe thead th {\n",
       "        text-align: right;\n",
       "    }\n",
       "</style>\n",
       "<table border=\"1\" class=\"dataframe\">\n",
       "  <thead>\n",
       "    <tr style=\"text-align: right;\">\n",
       "      <th></th>\n",
       "      <th>fixed acidity</th>\n",
       "      <th>volatile acidity</th>\n",
       "      <th>citric acid</th>\n",
       "      <th>residual sugar</th>\n",
       "      <th>chlorides</th>\n",
       "      <th>free sulfur dioxide</th>\n",
       "      <th>total sulfur dioxide</th>\n",
       "      <th>density</th>\n",
       "      <th>pH</th>\n",
       "      <th>sulphates</th>\n",
       "      <th>alcohol</th>\n",
       "      <th>quality</th>\n",
       "    </tr>\n",
       "  </thead>\n",
       "  <tbody>\n",
       "    <tr>\n",
       "      <th>count</th>\n",
       "      <td>1.410000e+03</td>\n",
       "      <td>1.410000e+03</td>\n",
       "      <td>1.410000e+03</td>\n",
       "      <td>1.410000e+03</td>\n",
       "      <td>1.410000e+03</td>\n",
       "      <td>1.410000e+03</td>\n",
       "      <td>1.410000e+03</td>\n",
       "      <td>1.410000e+03</td>\n",
       "      <td>1.410000e+03</td>\n",
       "      <td>1.410000e+03</td>\n",
       "      <td>1.410000e+03</td>\n",
       "      <td>1.410000e+03</td>\n",
       "    </tr>\n",
       "    <tr>\n",
       "      <th>mean</th>\n",
       "      <td>-1.601430e-14</td>\n",
       "      <td>-2.084542e-15</td>\n",
       "      <td>5.580406e-15</td>\n",
       "      <td>-6.842438e-17</td>\n",
       "      <td>1.856994e-14</td>\n",
       "      <td>9.702641e-17</td>\n",
       "      <td>-6.406420e-17</td>\n",
       "      <td>9.459297e-14</td>\n",
       "      <td>-7.832978e-16</td>\n",
       "      <td>-3.543226e-15</td>\n",
       "      <td>1.791483e-14</td>\n",
       "      <td>-1.628170e-15</td>\n",
       "    </tr>\n",
       "    <tr>\n",
       "      <th>std</th>\n",
       "      <td>1.000000e+00</td>\n",
       "      <td>1.000000e+00</td>\n",
       "      <td>1.000000e+00</td>\n",
       "      <td>1.000000e+00</td>\n",
       "      <td>1.000000e+00</td>\n",
       "      <td>1.000000e+00</td>\n",
       "      <td>1.000000e+00</td>\n",
       "      <td>1.000000e+00</td>\n",
       "      <td>1.000000e+00</td>\n",
       "      <td>1.000000e+00</td>\n",
       "      <td>1.000000e+00</td>\n",
       "      <td>1.000000e+00</td>\n",
       "    </tr>\n",
       "    <tr>\n",
       "      <th>min</th>\n",
       "      <td>-2.041606e+00</td>\n",
       "      <td>-2.473485e+00</td>\n",
       "      <td>-1.399856e+00</td>\n",
       "      <td>-1.376969e+00</td>\n",
       "      <td>-1.989173e+00</td>\n",
       "      <td>-1.261271e+00</td>\n",
       "      <td>-1.182348e+00</td>\n",
       "      <td>-4.013890e+00</td>\n",
       "      <td>-3.182832e+00</td>\n",
       "      <td>-2.019674e+00</td>\n",
       "      <td>-1.693261e+00</td>\n",
       "      <td>-1.068666e+00</td>\n",
       "    </tr>\n",
       "    <tr>\n",
       "      <th>25%</th>\n",
       "      <td>-7.309774e-01</td>\n",
       "      <td>-7.511609e-01</td>\n",
       "      <td>-9.119498e-01</td>\n",
       "      <td>-4.979532e-01</td>\n",
       "      <td>-5.386440e-01</td>\n",
       "      <td>-7.796481e-01</td>\n",
       "      <td>-7.646060e-01</td>\n",
       "      <td>-6.523188e-01</td>\n",
       "      <td>-7.044757e-01</td>\n",
       "      <td>-7.150916e-01</td>\n",
       "      <td>-8.924513e-01</td>\n",
       "      <td>-1.068666e+00</td>\n",
       "    </tr>\n",
       "    <tr>\n",
       "      <th>50%</th>\n",
       "      <td>-2.722575e-01</td>\n",
       "      <td>-1.302213e-02</td>\n",
       "      <td>-4.456131e-02</td>\n",
       "      <td>-2.342484e-01</td>\n",
       "      <td>-1.306826e-01</td>\n",
       "      <td>-2.017009e-01</td>\n",
       "      <td>-2.825966e-01</td>\n",
       "      <td>1.634806e-02</td>\n",
       "      <td>2.445270e-02</td>\n",
       "      <td>-2.258732e-01</td>\n",
       "      <td>-2.918437e-01</td>\n",
       "      <td>9.350826e-01</td>\n",
       "    </tr>\n",
       "    <tr>\n",
       "      <th>75%</th>\n",
       "      <td>5.796509e-01</td>\n",
       "      <td>6.636050e-01</td>\n",
       "      <td>8.092742e-01</td>\n",
       "      <td>1.173580e-01</td>\n",
       "      <td>3.226077e-01</td>\n",
       "      <td>5.688955e-01</td>\n",
       "      <td>4.886186e-01</td>\n",
       "      <td>6.834952e-01</td>\n",
       "      <td>6.075954e-01</td>\n",
       "      <td>5.894908e-01</td>\n",
       "      <td>6.090677e-01</td>\n",
       "      <td>9.350826e-01</td>\n",
       "    </tr>\n",
       "    <tr>\n",
       "      <th>max</th>\n",
       "      <td>2.938782e+00</td>\n",
       "      <td>2.724242e+00</td>\n",
       "      <td>2.611816e+00</td>\n",
       "      <td>9.610730e+00</td>\n",
       "      <td>6.985976e+00</td>\n",
       "      <td>5.385122e+00</td>\n",
       "      <td>3.830551e+00</td>\n",
       "      <td>2.387076e+00</td>\n",
       "      <td>2.721488e+00</td>\n",
       "      <td>3.280192e+00</td>\n",
       "      <td>3.111599e+00</td>\n",
       "      <td>9.350826e-01</td>\n",
       "    </tr>\n",
       "  </tbody>\n",
       "</table>\n",
       "</div>"
      ],
      "text/plain": [
       "       fixed acidity  volatile acidity   citric acid  residual sugar  \\\n",
       "count   1.410000e+03      1.410000e+03  1.410000e+03    1.410000e+03   \n",
       "mean   -1.601430e-14     -2.084542e-15  5.580406e-15   -6.842438e-17   \n",
       "std     1.000000e+00      1.000000e+00  1.000000e+00    1.000000e+00   \n",
       "min    -2.041606e+00     -2.473485e+00 -1.399856e+00   -1.376969e+00   \n",
       "25%    -7.309774e-01     -7.511609e-01 -9.119498e-01   -4.979532e-01   \n",
       "50%    -2.722575e-01     -1.302213e-02 -4.456131e-02   -2.342484e-01   \n",
       "75%     5.796509e-01      6.636050e-01  8.092742e-01    1.173580e-01   \n",
       "max     2.938782e+00      2.724242e+00  2.611816e+00    9.610730e+00   \n",
       "\n",
       "          chlorides  free sulfur dioxide  total sulfur dioxide       density  \\\n",
       "count  1.410000e+03         1.410000e+03          1.410000e+03  1.410000e+03   \n",
       "mean   1.856994e-14         9.702641e-17         -6.406420e-17  9.459297e-14   \n",
       "std    1.000000e+00         1.000000e+00          1.000000e+00  1.000000e+00   \n",
       "min   -1.989173e+00        -1.261271e+00         -1.182348e+00 -4.013890e+00   \n",
       "25%   -5.386440e-01        -7.796481e-01         -7.646060e-01 -6.523188e-01   \n",
       "50%   -1.306826e-01        -2.017009e-01         -2.825966e-01  1.634806e-02   \n",
       "75%    3.226077e-01         5.688955e-01          4.886186e-01  6.834952e-01   \n",
       "max    6.985976e+00         5.385122e+00          3.830551e+00  2.387076e+00   \n",
       "\n",
       "                 pH     sulphates       alcohol       quality  \n",
       "count  1.410000e+03  1.410000e+03  1.410000e+03  1.410000e+03  \n",
       "mean  -7.832978e-16 -3.543226e-15  1.791483e-14 -1.628170e-15  \n",
       "std    1.000000e+00  1.000000e+00  1.000000e+00  1.000000e+00  \n",
       "min   -3.182832e+00 -2.019674e+00 -1.693261e+00 -1.068666e+00  \n",
       "25%   -7.044757e-01 -7.150916e-01 -8.924513e-01 -1.068666e+00  \n",
       "50%    2.445270e-02 -2.258732e-01 -2.918437e-01  9.350826e-01  \n",
       "75%    6.075954e-01  5.894908e-01  6.090677e-01  9.350826e-01  \n",
       "max    2.721488e+00  3.280192e+00  3.111599e+00  9.350826e-01  "
      ]
     },
     "execution_count": 39,
     "metadata": {},
     "output_type": "execute_result"
    }
   ],
   "source": [
    "data_stand_W = (data_W - data_W.mean(axis = 0))/data_W.std(axis = 0)\n",
    "data_stand_W.describe()"
   ]
  },
  {
   "cell_type": "code",
   "execution_count": 40,
   "id": "90977e59",
   "metadata": {},
   "outputs": [],
   "source": [
    "#redwhite\n",
    "X_RW = data_stand.drop(['quality'], axis=1)\n",
    "y_RW = data['quality']\n",
    "\n",
    "#red\n",
    "X_R = data_stand_R.drop(['quality'], axis=1)\n",
    "y_R = data_R['quality']\n",
    "\n",
    "#white\n",
    "X_W= data_stand_W.drop(['quality'], axis=1)\n",
    "y_W = data_W['quality']"
   ]
  },
  {
   "cell_type": "code",
   "execution_count": 41,
   "id": "b6c53597",
   "metadata": {},
   "outputs": [
    {
     "name": "stdout",
     "output_type": "stream",
     "text": [
      "Количество элементов (RW) в обучающей и тестовой выборке:  5357 596\n",
      "Количество элементов (R) в обучающей и тестовой выборке:  4088 455\n",
      "Количество элементов (W) в обучающей и тестовой выборке:  1269 141\n"
     ]
    }
   ],
   "source": [
    "from sklearn.model_selection import train_test_split\n",
    "X_train_RW, X_test_RW, y_train_RW, y_test_RW = train_test_split(X_RW, y_RW, test_size = 0.1, random_state = 42)\n",
    "N_train_RW, _ = X_train_RW.shape \n",
    "N_test_RW,  _ = X_test_RW.shape \n",
    "print('Количество элементов (RW) в обучающей и тестовой выборке: ', N_train_RW, N_test_RW)\n",
    "\n",
    "X_train_R, X_test_R, y_train_R, y_test_R = train_test_split(X_R, y_R, test_size = 0.1, random_state = 42)\n",
    "N_train_R, _ = X_train_R.shape \n",
    "N_test_R,  _ = X_test_R.shape \n",
    "print('Количество элементов (R) в обучающей и тестовой выборке: ', N_train_R, N_test_R)\n",
    "\n",
    "X_train_W, X_test_W, y_train_W, y_test_W = train_test_split(X_W, y_W, test_size = 0.1, random_state = 42)\n",
    "N_train_W, _ = X_train_W.shape \n",
    "N_test_W,  _ = X_test_W.shape \n",
    "print('Количество элементов (W) в обучающей и тестовой выборке: ', N_train_W, N_test_W)"
   ]
  },
  {
   "cell_type": "code",
   "execution_count": 42,
   "id": "7929541c",
   "metadata": {},
   "outputs": [],
   "source": [
    "from sklearn.model_selection import GridSearchCV\n",
    "from sklearn.neighbors import KNeighborsClassifier"
   ]
  },
  {
   "cell_type": "code",
   "execution_count": 43,
   "id": "a15a276e",
   "metadata": {
    "scrolled": true
   },
   "outputs": [
    {
     "name": "stdout",
     "output_type": "stream",
     "text": [
      "Красное и белое вино: \n",
      "Ошибка на кросс-валидации и оптимальное кол-во соседей:  0.21448319151904038 1\n",
      "Ошибка на обучающей и на тестовой выборке:  0.0 0.2231543624161074\n",
      "Красное вино: \n",
      "Ошибка на кросс-валидации и оптимальное кол-во соседей:  0.1976496955750514 1\n",
      "Ошибка на обучающей и на тестовой выборке:  0.0 0.189010989010989\n",
      "Белое вино: \n",
      "Ошибка на кросс-валидации и оптимальное кол-во соседей:  0.24033245844269469 1\n",
      "Ошибка на обучающей и на тестовой выборке:  0.0 0.2127659574468085\n"
     ]
    }
   ],
   "source": [
    "#RW\n",
    "X_train = X_train_RW; y_train = y_train_RW; X_test = X_test_RW; y_test = y_test_RW\n",
    "grid = GridSearchCV(KNeighborsClassifier(), param_grid = {'n_neighbors': range(1, 21)}, cv = 10)\n",
    "grid.fit(X_train, y_train)\n",
    "print('Красное и белое вино: ')\n",
    "best_cv_err = 1 - grid.best_score_; best_n_neighbors = grid.best_estimator_.n_neighbors\n",
    "print('Ошибка на кросс-валидации и оптимальное кол-во соседей: ', best_cv_err, best_n_neighbors)\n",
    "\n",
    "knn = KNeighborsClassifier(n_neighbors = best_n_neighbors).fit(X_train, y_train)\n",
    "err_train = np.mean(y_train != knn.predict(X_train)); err_test  = np.mean(y_test  != knn.predict(X_test))\n",
    "print('Ошибка на обучающей и на тестовой выборке: ', err_train, err_test)\n",
    "\n",
    "#R\n",
    "X_train = X_train_R; y_train = y_train_R; X_test = X_test_R; y_test = y_test_R\n",
    "grid = GridSearchCV(KNeighborsClassifier(), param_grid = {'n_neighbors': range(1, 21)}, cv = 10)\n",
    "grid.fit(X_train, y_train)\n",
    "print('Красное вино: ')\n",
    "best_cv_err = 1 - grid.best_score_; best_n_neighbors = grid.best_estimator_.n_neighbors\n",
    "print('Ошибка на кросс-валидации и оптимальное кол-во соседей: ', best_cv_err, best_n_neighbors)\n",
    "\n",
    "knn = KNeighborsClassifier(n_neighbors = best_n_neighbors).fit(X_train, y_train)\n",
    "err_train = np.mean(y_train != knn.predict(X_train)); err_test  = np.mean(y_test  != knn.predict(X_test))\n",
    "print('Ошибка на обучающей и на тестовой выборке: ', err_train, err_test)\n",
    "\n",
    "#W\n",
    "X_train = X_train_W; y_train = y_train_W; X_test = X_test_W; y_test = y_test_W\n",
    "grid = GridSearchCV(KNeighborsClassifier(), param_grid = {'n_neighbors': range(1, 21)}, cv = 10)\n",
    "grid.fit(X_train, y_train)\n",
    "print('Белое вино: ')\n",
    "best_cv_err = 1 - grid.best_score_; best_n_neighbors = grid.best_estimator_.n_neighbors\n",
    "print('Ошибка на кросс-валидации и оптимальное кол-во соседей: ', best_cv_err, best_n_neighbors)\n",
    "\n",
    "knn = KNeighborsClassifier(n_neighbors = best_n_neighbors).fit(X_train, y_train)\n",
    "err_train = np.mean(y_train != knn.predict(X_train)); err_test  = np.mean(y_test  != knn.predict(X_test))\n",
    "print('Ошибка на обучающей и на тестовой выборке: ', err_train, err_test)"
   ]
  },
  {
   "cell_type": "markdown",
   "id": "3c2b110c",
   "metadata": {},
   "source": [
    "# Выводы\n",
    "\n",
    "- Таким образом, благодаря объединению шести классов качества в два, удалось несколько улучшить ошибку предсказания с ~0.4 до ~0.2.\n",
    "\n",
    "- Так же видно, что вероятность правильного предсказания отдельно для красного вина (\\~0.19) выше, чем отдельно для белого вина (~0.24). Это обусловленно тем, что зависимость качества красного вина от его химического состава более выраженная, в отличии от белого вина, у которого качество в основном зависит от значения алкоголя.\n",
    "\n",
    "- Для выборки, в которой одновременно участвовали оба типа вина, результат получился средним (~0.21).\n"
   ]
  },
  {
   "cell_type": "markdown",
   "id": "bde7748a",
   "metadata": {},
   "source": [
    "# Другие классификаторы"
   ]
  },
  {
   "cell_type": "markdown",
   "id": "35c03ad9",
   "metadata": {},
   "source": [
    "# SVC"
   ]
  },
  {
   "cell_type": "code",
   "execution_count": 49,
   "id": "9bb29656",
   "metadata": {},
   "outputs": [],
   "source": [
    "from sklearn.svm import SVC"
   ]
  },
  {
   "cell_type": "code",
   "execution_count": 50,
   "id": "a582b73e",
   "metadata": {},
   "outputs": [
    {
     "name": "stdout",
     "output_type": "stream",
     "text": [
      "Ошибка на обучающей выборке:  0.20104536120963226\n",
      "Ошибка на тестовой выборке:  0.24496644295302014\n"
     ]
    }
   ],
   "source": [
    "#RW\n",
    "X_train = X_train_RW; y_train = y_train_RW; X_test = X_test_RW; y_test = y_test_RW\n",
    "svc = SVC(gamma = 'auto')\n",
    "svc.fit(X_train, y_train)\n",
    "\n",
    "err_train = np.mean(y_train != svc.predict(X_train))\n",
    "err_test  = np.mean(y_test  != svc.predict(X_test))\n",
    "\n",
    "print('Ошибка на обучающей выборке: ', err_train)\n",
    "print('Ошибка на тестовой выборке: ', err_test)"
   ]
  },
  {
   "cell_type": "markdown",
   "id": "d5235333",
   "metadata": {},
   "source": [
    "# Random forest"
   ]
  },
  {
   "cell_type": "code",
   "execution_count": 53,
   "id": "4947be79",
   "metadata": {},
   "outputs": [],
   "source": [
    "from sklearn import ensemble"
   ]
  },
  {
   "cell_type": "code",
   "execution_count": 54,
   "id": "c5128672",
   "metadata": {},
   "outputs": [
    {
     "name": "stdout",
     "output_type": "stream",
     "text": [
      "Ошибка на обучающей выборке:  0.0\n",
      "Ошибка на тестовой выборке:  0.16778523489932887\n"
     ]
    }
   ],
   "source": [
    "#RW\n",
    "X_train = X_train_RW; y_train = y_train_RW; X_test = X_test_RW; y_test = y_test_RW\n",
    "rf = ensemble.RandomForestClassifier(n_estimators = 100)\n",
    "rf.fit(X_train, y_train)\n",
    "\n",
    "err_train = np.mean(y_train != rf.predict(X_train))\n",
    "err_test  = np.mean(y_test  != rf.predict(X_test))\n",
    "\n",
    "print('Ошибка на обучающей выборке: ', err_train)\n",
    "print('Ошибка на тестовой выборке: ', err_test)"
   ]
  },
  {
   "cell_type": "markdown",
   "id": "3c510efc",
   "metadata": {},
   "source": [
    "# Extremely Randomized Trees"
   ]
  },
  {
   "cell_type": "code",
   "execution_count": 55,
   "id": "e0340f81",
   "metadata": {},
   "outputs": [
    {
     "name": "stdout",
     "output_type": "stream",
     "text": [
      "Ошибка на обучающей выборке:  0.0\n",
      "Ошибка на тестовой выборке:  0.17114093959731544\n"
     ]
    }
   ],
   "source": [
    "#RW\n",
    "X_train = X_train_RW; y_train = y_train_RW; X_test = X_test_RW; y_test = y_test_RW\n",
    "ert = ensemble.ExtraTreesClassifier(n_estimators = 100).fit(X_train, y_train)\n",
    "\n",
    "err_train = np.mean(y_train != ert.predict(X_train))\n",
    "err_test  = np.mean(y_test  != ert.predict(X_test))\n",
    "\n",
    "print('Ошибка на обучающей выборке: ', err_train)\n",
    "print('Ошибка на тестовой выборке: ', err_test)"
   ]
  },
  {
   "cell_type": "markdown",
   "id": "053c2f5f",
   "metadata": {},
   "source": [
    "# AdaBoost"
   ]
  },
  {
   "cell_type": "code",
   "execution_count": 57,
   "id": "0be72286",
   "metadata": {},
   "outputs": [
    {
     "name": "stdout",
     "output_type": "stream",
     "text": [
      "Ошибка на обучающей выборке:  0.21784580922157923\n",
      "Ошибка на тестовой выборке:  0.2550335570469799\n"
     ]
    }
   ],
   "source": [
    "#RW\n",
    "X_train = X_train_RW; y_train = y_train_RW; X_test = X_test_RW; y_test = y_test_RW\n",
    "ada = ensemble.AdaBoostClassifier(n_estimators = 100)\n",
    "ada.fit(X_train, y_train)\n",
    "\n",
    "err_train = np.mean(y_train != ada.predict(X_train))\n",
    "err_test = np.mean(y_test != ada.predict(X_test))\n",
    "\n",
    "print('Ошибка на обучающей выборке: ', err_train)\n",
    "print('Ошибка на тестовой выборке: ', err_test)"
   ]
  },
  {
   "cell_type": "markdown",
   "id": "7aafb5d0",
   "metadata": {},
   "source": [
    "# GBT"
   ]
  },
  {
   "cell_type": "code",
   "execution_count": 58,
   "id": "cbde332d",
   "metadata": {},
   "outputs": [
    {
     "name": "stdout",
     "output_type": "stream",
     "text": [
      "Ошибка на обучающей выборке:  0.18443158484226246\n",
      "Ошибка на тестовой выборке:  0.25\n"
     ]
    }
   ],
   "source": [
    "#RW\n",
    "X_train = X_train_RW; y_train = y_train_RW; X_test = X_test_RW; y_test = y_test_RW\n",
    "gbt = ensemble.GradientBoostingClassifier(n_estimators = 100)\n",
    "gbt.fit(X_train, y_train)\n",
    "\n",
    "err_train = np.mean(y_train != gbt.predict(X_train))\n",
    "err_test = np.mean(y_test != gbt.predict(X_test))\n",
    "\n",
    "print('Ошибка на обучающей выборке: ', err_train)\n",
    "print('Ошибка на тестовой выборке: ', err_test)"
   ]
  },
  {
   "cell_type": "markdown",
   "id": "4dfdc671",
   "metadata": {},
   "source": [
    "- Наилучший результат (~0.16) был достигнут при использовании классификатора - случайный лес."
   ]
  },
  {
   "cell_type": "markdown",
   "id": "6a22e1d3-2a2b-4c67-bc42-203f39a4cd98",
   "metadata": {},
   "source": [
    "---"
   ]
  },
  {
   "cell_type": "markdown",
   "id": "630ca19e-37d9-4bcf-85c2-76243a83a7b2",
   "metadata": {},
   "source": [
    "# Нейронная сеть\n",
    "\n",
    "### Для полученных ранее результатов, используем нейронную сеть"
   ]
  },
  {
   "cell_type": "code",
   "execution_count": 47,
   "id": "92579ed0-d6df-4297-9cfb-adbc19ddf445",
   "metadata": {},
   "outputs": [],
   "source": [
    "from sklearn.neural_network import MLPClassifier"
   ]
  },
  {
   "cell_type": "code",
   "execution_count": 48,
   "id": "9dbc88a3-0f34-47e4-a731-e9a6a7d15965",
   "metadata": {},
   "outputs": [],
   "source": [
    "mlp_model = MLPClassifier(hidden_layer_sizes = (100,),\n",
    "                          solver = 'lbfgs', \n",
    "                          activation = 'logistic',\n",
    "                          random_state = 42,\n",
    "                          max_iter = 1000)"
   ]
  },
  {
   "cell_type": "code",
   "execution_count": 49,
   "id": "eb93e26a-760c-471a-86d7-3126632eb221",
   "metadata": {},
   "outputs": [
    {
     "data": {
      "text/plain": [
       "MLPClassifier(activation='logistic', max_iter=1000, random_state=42,\n",
       "              solver='lbfgs')"
      ]
     },
     "execution_count": 49,
     "metadata": {},
     "output_type": "execute_result"
    }
   ],
   "source": [
    "X_train = X_train_RW; y_train = y_train_RW; X_test = X_test_RW; y_test = y_test_RW\n",
    "mlp_model.fit(X_train, y_train)"
   ]
  },
  {
   "cell_type": "markdown",
   "id": "040d9700-295b-4fbb-a57c-f71396b0798b",
   "metadata": {},
   "source": [
    "### Проверим качество классификатора"
   ]
  },
  {
   "cell_type": "code",
   "execution_count": 50,
   "id": "b370585a-2a43-49ae-9b30-8903c40225a6",
   "metadata": {},
   "outputs": [],
   "source": [
    "y_train_pred = mlp_model.predict(X_train)\n",
    "y_test_pred = mlp_model.predict(X_test)"
   ]
  },
  {
   "cell_type": "code",
   "execution_count": 51,
   "id": "3bd829bf-e7e1-4c12-b3ac-384ff917de92",
   "metadata": {},
   "outputs": [
    {
     "name": "stdout",
     "output_type": "stream",
     "text": [
      "0.0 0.2332214765100671\n"
     ]
    }
   ],
   "source": [
    "print(np.mean(y_train != y_train_pred), np.mean(y_test != y_test_pred))"
   ]
  },
  {
   "cell_type": "markdown",
   "id": "b6c75c6d-63ab-4d50-afc7-018e417a28ad",
   "metadata": {},
   "source": [
    "### Подберем оптимальный гипер-параметр alpha"
   ]
  },
  {
   "cell_type": "code",
   "execution_count": 52,
   "id": "12b627fd-94aa-4d52-a25f-86d47498c9e5",
   "metadata": {},
   "outputs": [],
   "source": [
    "from sklearn.metrics import accuracy_score"
   ]
  },
  {
   "cell_type": "code",
   "execution_count": 53,
   "id": "619449fd-f0d7-4370-86d2-855e6dff717c",
   "metadata": {},
   "outputs": [],
   "source": [
    "alpha_arr = np.logspace(-3, 2, 21)\n",
    "test_err = []\n",
    "train_err = []\n",
    "train_acc = []\n",
    "test_acc = []\n",
    "\n",
    "for alpha in alpha_arr:\n",
    "    mlp_model = MLPClassifier(alpha = alpha, \n",
    "                              hidden_layer_sizes = (50,), \n",
    "                              solver = 'lbfgs', \n",
    "                              activation = 'logistic', \n",
    "                              max_iter= 5000, \n",
    "                              random_state = 42)\n",
    "    mlp_model.fit(X_train, y_train)\n",
    "\n",
    "    y_train_pred = mlp_model.predict(X_train)\n",
    "    y_test_pred = mlp_model.predict(X_test)\n",
    "    \n",
    "    train_err.append(np.mean(y_train != y_train_pred))\n",
    "    test_err.append(np.mean(y_test != y_test_pred))\n",
    "    train_acc.append(accuracy_score(y_train, y_train_pred))\n",
    "    test_acc.append(accuracy_score(y_test, y_test_pred))"
   ]
  },
  {
   "cell_type": "code",
   "execution_count": 54,
   "id": "37c78b97-ba93-420d-9ff6-625261c5d2f7",
   "metadata": {},
   "outputs": [
    {
     "data": {
      "text/plain": [
       "<matplotlib.legend.Legend at 0x1b560fbb3a0>"
      ]
     },
     "execution_count": 54,
     "metadata": {},
     "output_type": "execute_result"
    },
    {
     "data": {
      "image/png": "[encoded data removed]",
      "text/plain": [
       "<Figure size 432x288 with 1 Axes>"
      ]
     },
     "metadata": {
      "needs_background": "light"
     },
     "output_type": "display_data"
    }
   ],
   "source": [
    "plt.semilogx(alpha_arr, train_err, 'b-o', label = 'train')\n",
    "plt.semilogx(alpha_arr, test_err, 'r-o', label = 'test')\n",
    "plt.xlim([np.min(alpha_arr), np.max(alpha_arr)])\n",
    "plt.title('Error vs. alpha')\n",
    "plt.xlabel('alpha')\n",
    "plt.ylabel('error')\n",
    "plt.legend()"
   ]
  },
  {
   "cell_type": "code",
   "execution_count": 55,
   "id": "19e641b0-bd9c-405b-8760-da60eed88bdb",
   "metadata": {},
   "outputs": [
    {
     "data": {
      "image/png": "[encoded data removed]",
      "text/plain": [
       "<Figure size 432x288 with 1 Axes>"
      ]
     },
     "metadata": {
      "needs_background": "light"
     },
     "output_type": "display_data"
    }
   ],
   "source": [
    "plt.semilogx(alpha_arr, train_acc, 'r-o', label = 'train')\n",
    "plt.semilogx(alpha_arr, test_acc, 'b-o', label = 'test')\n",
    "plt.xlim([np.min(alpha_arr), np.max(alpha_arr)])\n",
    "plt.title('Accuracy vs. alpha')\n",
    "plt.xlabel('Alpha')\n",
    "plt.ylabel('Accuracy')\n",
    "plt.legend()\n",
    "pass"
   ]
  },
  {
   "cell_type": "code",
   "execution_count": 56,
   "id": "f28fdf0b-6f12-4540-b4fb-5840124c7844",
   "metadata": {},
   "outputs": [
    {
     "name": "stdout",
     "output_type": "stream",
     "text": [
      "Минимальная ошибка на обучающей выборке:  0.04722792607802875\n",
      "Минимальная ошибка на тестовой выборке:  0.2231543624161074\n"
     ]
    }
   ],
   "source": [
    "min_train_err = np.min(train_err)\n",
    "min_test_err = np.min(test_err)\n",
    "print('Минимальная ошибка на обучающей выборке: ', min_train_err)\n",
    "print('Минимальная ошибка на тестовой выборке: ', min_test_err)"
   ]
  },
  {
   "cell_type": "code",
   "execution_count": 57,
   "id": "9f1d968f-f696-4239-abf7-ab13bf32b197",
   "metadata": {},
   "outputs": [
    {
     "name": "stdout",
     "output_type": "stream",
     "text": [
      "Оптимальное значение alpha:  0.01778279410038923\n"
     ]
    }
   ],
   "source": [
    "alpha_local_opt = alpha_arr[test_err == min_test_err][0]\n",
    "print('Оптимальное значение alpha: ', alpha_local_opt)"
   ]
  },
  {
   "cell_type": "markdown",
   "id": "cdf567e9-e898-40c8-bc77-ca121affe65e",
   "metadata": {},
   "source": [
    "### Теперь, для полученного оптимального значения alpha_local_opt попробуем подобрать оптимальное количество нейронов для одного скрытого слоя"
   ]
  },
  {
   "cell_type": "code",
   "execution_count": 81,
   "id": "5db83311-154d-4898-b010-68c185b8e4d3",
   "metadata": {},
   "outputs": [],
   "source": [
    "hidden_layer = np.arange(1, 51)\n",
    "test_err = []\n",
    "train_err = []\n",
    "train_acc = []\n",
    "test_acc = []\n",
    "\n",
    "for size in hidden_layer:\n",
    "    mlp_model = MLPClassifier(alpha = alpha_local_opt, \n",
    "                              hidden_layer_sizes = size,\n",
    "                              solver = 'lbfgs', \n",
    "                              max_iter = 5000, \n",
    "                              activation = 'logistic',\n",
    "                              random_state = 42)\n",
    "    \n",
    "    \n",
    "    mlp_model.fit(X_train, y_train)\n",
    "\n",
    "    y_train_pred = mlp_model.predict(X_train)\n",
    "    y_test_pred = mlp_model.predict(X_test)\n",
    "    \n",
    "    train_err.append(np.mean(y_train != y_train_pred))\n",
    "    test_err.append(np.mean(y_test != y_test_pred))\n",
    "    train_acc.append(accuracy_score(y_train, y_train_pred))\n",
    "    test_acc.append(accuracy_score(y_test, y_test_pred))"
   ]
  },
  {
   "cell_type": "code",
   "execution_count": 82,
   "id": "82c5e433-dbf9-4ef6-bcf7-970fb9645e97",
   "metadata": {},
   "outputs": [
    {
     "data": {
      "image/png": "[encoded data removed]",
      "text/plain": [
       "<Figure size 432x288 with 1 Axes>"
      ]
     },
     "metadata": {
      "needs_background": "light"
     },
     "output_type": "display_data"
    }
   ],
   "source": [
    "plt.plot(hidden_layer, train_err, 'b-o', label = 'train')\n",
    "plt.plot(hidden_layer, test_err, 'r-o', label = 'test')\n",
    "plt.xlim([np.min(hidden_layer), np.max(hidden_layer)])\n",
    "plt.title('Error vs. number of hidden neurons')\n",
    "plt.xlabel('Number of hidden neurons')\n",
    "plt.ylabel('Error')\n",
    "plt.legend()\n",
    "pass"
   ]
  },
  {
   "cell_type": "code",
   "execution_count": 83,
   "id": "8d38b46d-5c4f-44f7-9234-64dfb4b25a15",
   "metadata": {},
   "outputs": [
    {
     "data": {
      "image/png": "[encoded data removed]",
      "text/plain": [
       "<Figure size 432x288 with 1 Axes>"
      ]
     },
     "metadata": {
      "needs_background": "light"
     },
     "output_type": "display_data"
    }
   ],
   "source": [
    "plt.plot(hidden_layer, train_acc, 'b-o', label = 'train')\n",
    "plt.plot(hidden_layer, test_acc, 'r-o', label = 'test')\n",
    "plt.xlim([np.min(hidden_layer), np.max(hidden_layer)])\n",
    "plt.title('Accuracy vs. number of hidden neurons')\n",
    "plt.xlabel('Number of hidden neurons')\n",
    "plt.ylabel('Accuracy')\n",
    "plt.legend()\n",
    "pass"
   ]
  },
  {
   "cell_type": "code",
   "execution_count": 84,
   "id": "a7b5dd1a-b1b0-45c2-8060-4a879d210048",
   "metadata": {},
   "outputs": [
    {
     "name": "stdout",
     "output_type": "stream",
     "text": [
      "Минимальная ошибка на обучающей выборке:  0.08157550868023147\n",
      "Минимальная ошибка на тестовой выборке:  0.2197986577181208\n"
     ]
    }
   ],
   "source": [
    "min_train_err = np.min(train_err)\n",
    "min_test_err = np.min(test_err)\n",
    "print('Минимальная ошибка на обучающей выборке: ', min_train_err)\n",
    "print('Минимальная ошибка на тестовой выборке: ', min_test_err)"
   ]
  },
  {
   "cell_type": "code",
   "execution_count": 85,
   "id": "bec0cba3-da94-4615-9b48-5d65129a19b2",
   "metadata": {},
   "outputs": [
    {
     "name": "stdout",
     "output_type": "stream",
     "text": [
      "Оптимальное значение количества нейронов скрытого слоя:  40\n"
     ]
    }
   ],
   "source": [
    "hidden_layer_local_opt_1 = hidden_layer[test_err == min_test_err][0]\n",
    "print('Оптимальное значение количества нейронов скрытого слоя: ', hidden_layer_local_opt_1)"
   ]
  },
  {
   "cell_type": "markdown",
   "id": "e76e9528-c00f-4387-aeca-8edb45d4a26f",
   "metadata": {},
   "source": [
    "* Попробуем добавить еще один скрытой слой и подобрать для него оптимальное количество нейронов"
   ]
  },
  {
   "cell_type": "code",
   "execution_count": 86,
   "id": "c6f2d94e-886d-469c-bbc6-ec40348d1acb",
   "metadata": {},
   "outputs": [
    {
     "name": "stderr",
     "output_type": "stream",
     "text": [
      "D:\\anaconda3\\lib\\site-packages\\sklearn\\neural_network\\_multilayer_perceptron.py:500: ConvergenceWarning: lbfgs failed to converge (status=1):\n",
      "STOP: TOTAL NO. of ITERATIONS REACHED LIMIT.\n",
      "\n",
      "Increase the number of iterations (max_iter) or scale the data as shown in:\n",
      "    https://scikit-learn.org/stable/modules/preprocessing.html\n",
      "  self.n_iter_ = _check_optimize_result(\"lbfgs\", opt_res, self.max_iter)\n"
     ]
    },
    {
     "name": "stdout",
     "output_type": "stream",
     "text": [
      "Wall time: 11min 2s\n"
     ]
    }
   ],
   "source": [
    "%%time\n",
    "hidden_layer = np.arange(1, 51)\n",
    "test_err = []\n",
    "train_err = []\n",
    "train_acc = []\n",
    "test_acc = []\n",
    "\n",
    "for size in hidden_layer:\n",
    "    mlp_model = MLPClassifier(alpha = alpha_local_opt, \n",
    "                              hidden_layer_sizes = (hidden_layer_local_opt_1, size),\n",
    "                              solver = 'lbfgs', \n",
    "                              max_iter = 5000, \n",
    "                              activation = 'logistic',\n",
    "                              random_state = 42)\n",
    "    \n",
    "    mlp_model.fit(X_train, y_train)\n",
    "\n",
    "    y_train_pred = mlp_model.predict(X_train)\n",
    "    y_test_pred = mlp_model.predict(X_test)\n",
    "    \n",
    "    train_err.append(np.mean(y_train != y_train_pred))\n",
    "    test_err.append(np.mean(y_test != y_test_pred))\n",
    "    train_acc.append(accuracy_score(y_train, y_train_pred))\n",
    "    test_acc.append(accuracy_score(y_test, y_test_pred))"
   ]
  },
  {
   "cell_type": "code",
   "execution_count": 87,
   "id": "8d7f4fb1-03ca-4d45-8621-ac79df33ecda",
   "metadata": {},
   "outputs": [
    {
     "data": {
      "image/png": "[encoded data removed]",
      "text/plain": [
       "<Figure size 432x288 with 1 Axes>"
      ]
     },
     "metadata": {
      "needs_background": "light"
     },
     "output_type": "display_data"
    }
   ],
   "source": [
    "plt.plot(hidden_layer, train_err, 'b-o', label = 'train')\n",
    "plt.plot(hidden_layer, test_err, 'r-o', label = 'test')\n",
    "plt.xlim([np.min(hidden_layer), np.max(hidden_layer)])\n",
    "plt.title('Error vs. number of hidden neurons (second layer)')\n",
    "plt.xlabel('Number of hidden neurons (second layer)')\n",
    "plt.ylabel('Error')\n",
    "plt.legend()\n",
    "pass"
   ]
  },
  {
   "cell_type": "code",
   "execution_count": 88,
   "id": "c513233d-2f3c-4731-8aa7-bc18d6fef4f1",
   "metadata": {},
   "outputs": [
    {
     "data": {
      "image/png": "[encoded data removed]",
      "text/plain": [
       "<Figure size 432x288 with 1 Axes>"
      ]
     },
     "metadata": {
      "needs_background": "light"
     },
     "output_type": "display_data"
    }
   ],
   "source": [
    "plt.plot(hidden_layer, train_acc, 'b-o', label = 'train')\n",
    "plt.plot(hidden_layer, test_acc, 'r-o', label = 'test')\n",
    "plt.xlim([np.min(hidden_layer), np.max(hidden_layer)])\n",
    "plt.title('Accuracy vs. number of hidden neurons (second layer)')\n",
    "plt.xlabel('Number of hidden neurons (second layer)')\n",
    "plt.ylabel('Accuracy')\n",
    "plt.legend()\n",
    "pass"
   ]
  },
  {
   "cell_type": "code",
   "execution_count": 89,
   "id": "9ce4f22b-836d-4753-a14a-0d082a34b4cb",
   "metadata": {},
   "outputs": [
    {
     "name": "stdout",
     "output_type": "stream",
     "text": [
      "Минимальная ошибка на обучающей выборке:  0.0\n",
      "Минимальная ошибка на тестовой выборке:  0.18959731543624161\n"
     ]
    }
   ],
   "source": [
    "min_train_err = np.min(train_err)\n",
    "min_test_err = np.min(test_err)\n",
    "print('Минимальная ошибка на обучающей выборке: ', min_train_err)\n",
    "print('Минимальная ошибка на тестовой выборке: ', min_test_err)"
   ]
  },
  {
   "cell_type": "code",
   "execution_count": 90,
   "id": "a7d96b7c-ee09-4342-aca5-64e7287d90ca",
   "metadata": {},
   "outputs": [
    {
     "name": "stdout",
     "output_type": "stream",
     "text": [
      "Оптимальное значение количества нейронов второго скрытого слоя:  31\n"
     ]
    }
   ],
   "source": [
    "hidden_layer_local_opt_2 = hidden_layer[test_err == min_test_err][0]\n",
    "print('Оптимальное значение количества нейронов второго скрытого слоя: ', hidden_layer_local_opt_2)"
   ]
  },
  {
   "cell_type": "markdown",
   "id": "7bb818ba-b048-40b4-a1a4-87531d95af74",
   "metadata": {},
   "source": [
    "### Наконец, попробуем одновременно подобрать оптимальный параметр alpha и необходимое число нейронов для двух скрытых слоев"
   ]
  },
  {
   "cell_type": "code",
   "execution_count": 78,
   "id": "ce5b7880-9058-4439-a7bf-177d3e422e04",
   "metadata": {},
   "outputs": [
    {
     "name": "stderr",
     "output_type": "stream",
     "text": [
      "D:\\anaconda3\\lib\\site-packages\\sklearn\\neural_network\\_multilayer_perceptron.py:500: ConvergenceWarning: lbfgs failed to converge (status=1):\n",
      "STOP: TOTAL NO. of ITERATIONS REACHED LIMIT.\n",
      "\n",
      "Increase the number of iterations (max_iter) or scale the data as shown in:\n",
      "    https://scikit-learn.org/stable/modules/preprocessing.html\n",
      "  self.n_iter_ = _check_optimize_result(\"lbfgs\", opt_res, self.max_iter)\n",
      "D:\\anaconda3\\lib\\site-packages\\sklearn\\neural_network\\_multilayer_perceptron.py:500: ConvergenceWarning: lbfgs failed to converge (status=1):\n",
      "STOP: TOTAL NO. of ITERATIONS REACHED LIMIT.\n",
      "\n",
      "Increase the number of iterations (max_iter) or scale the data as shown in:\n",
      "    https://scikit-learn.org/stable/modules/preprocessing.html\n",
      "  self.n_iter_ = _check_optimize_result(\"lbfgs\", opt_res, self.max_iter)\n",
      "D:\\anaconda3\\lib\\site-packages\\sklearn\\neural_network\\_multilayer_perceptron.py:500: ConvergenceWarning: lbfgs failed to converge (status=1):\n",
      "STOP: TOTAL NO. of ITERATIONS REACHED LIMIT.\n",
      "\n",
      "Increase the number of iterations (max_iter) or scale the data as shown in:\n",
      "    https://scikit-learn.org/stable/modules/preprocessing.html\n",
      "  self.n_iter_ = _check_optimize_result(\"lbfgs\", opt_res, self.max_iter)\n",
      "D:\\anaconda3\\lib\\site-packages\\sklearn\\neural_network\\_multilayer_perceptron.py:500: ConvergenceWarning: lbfgs failed to converge (status=1):\n",
      "STOP: TOTAL NO. of ITERATIONS REACHED LIMIT.\n",
      "\n",
      "Increase the number of iterations (max_iter) or scale the data as shown in:\n",
      "    https://scikit-learn.org/stable/modules/preprocessing.html\n",
      "  self.n_iter_ = _check_optimize_result(\"lbfgs\", opt_res, self.max_iter)\n",
      "D:\\anaconda3\\lib\\site-packages\\sklearn\\neural_network\\_multilayer_perceptron.py:500: ConvergenceWarning: lbfgs failed to converge (status=1):\n",
      "STOP: TOTAL NO. of ITERATIONS REACHED LIMIT.\n",
      "\n",
      "Increase the number of iterations (max_iter) or scale the data as shown in:\n",
      "    https://scikit-learn.org/stable/modules/preprocessing.html\n",
      "  self.n_iter_ = _check_optimize_result(\"lbfgs\", opt_res, self.max_iter)\n",
      "D:\\anaconda3\\lib\\site-packages\\sklearn\\neural_network\\_multilayer_perceptron.py:500: ConvergenceWarning: lbfgs failed to converge (status=1):\n",
      "STOP: TOTAL NO. of ITERATIONS REACHED LIMIT.\n",
      "\n",
      "Increase the number of iterations (max_iter) or scale the data as shown in:\n",
      "    https://scikit-learn.org/stable/modules/preprocessing.html\n",
      "  self.n_iter_ = _check_optimize_result(\"lbfgs\", opt_res, self.max_iter)\n",
      "D:\\anaconda3\\lib\\site-packages\\sklearn\\neural_network\\_multilayer_perceptron.py:500: ConvergenceWarning: lbfgs failed to converge (status=1):\n",
      "STOP: TOTAL NO. of ITERATIONS REACHED LIMIT.\n",
      "\n",
      "Increase the number of iterations (max_iter) or scale the data as shown in:\n",
      "    https://scikit-learn.org/stable/modules/preprocessing.html\n",
      "  self.n_iter_ = _check_optimize_result(\"lbfgs\", opt_res, self.max_iter)\n",
      "D:\\anaconda3\\lib\\site-packages\\sklearn\\neural_network\\_multilayer_perceptron.py:500: ConvergenceWarning: lbfgs failed to converge (status=1):\n",
      "STOP: TOTAL NO. of ITERATIONS REACHED LIMIT.\n",
      "\n",
      "Increase the number of iterations (max_iter) or scale the data as shown in:\n",
      "    https://scikit-learn.org/stable/modules/preprocessing.html\n",
      "  self.n_iter_ = _check_optimize_result(\"lbfgs\", opt_res, self.max_iter)\n",
      "D:\\anaconda3\\lib\\site-packages\\sklearn\\neural_network\\_multilayer_perceptron.py:500: ConvergenceWarning: lbfgs failed to converge (status=1):\n",
      "STOP: TOTAL NO. of ITERATIONS REACHED LIMIT.\n",
      "\n",
      "Increase the number of iterations (max_iter) or scale the data as shown in:\n",
      "    https://scikit-learn.org/stable/modules/preprocessing.html\n",
      "  self.n_iter_ = _check_optimize_result(\"lbfgs\", opt_res, self.max_iter)\n",
      "D:\\anaconda3\\lib\\site-packages\\sklearn\\neural_network\\_multilayer_perceptron.py:500: ConvergenceWarning: lbfgs failed to converge (status=1):\n",
      "STOP: TOTAL NO. of ITERATIONS REACHED LIMIT.\n",
      "\n",
      "Increase the number of iterations (max_iter) or scale the data as shown in:\n",
      "    https://scikit-learn.org/stable/modules/preprocessing.html\n",
      "  self.n_iter_ = _check_optimize_result(\"lbfgs\", opt_res, self.max_iter)\n",
      "D:\\anaconda3\\lib\\site-packages\\sklearn\\neural_network\\_multilayer_perceptron.py:500: ConvergenceWarning: lbfgs failed to converge (status=1):\n",
      "STOP: TOTAL NO. of ITERATIONS REACHED LIMIT.\n",
      "\n",
      "Increase the number of iterations (max_iter) or scale the data as shown in:\n",
      "    https://scikit-learn.org/stable/modules/preprocessing.html\n",
      "  self.n_iter_ = _check_optimize_result(\"lbfgs\", opt_res, self.max_iter)\n",
      "D:\\anaconda3\\lib\\site-packages\\sklearn\\neural_network\\_multilayer_perceptron.py:500: ConvergenceWarning: lbfgs failed to converge (status=1):\n",
      "STOP: TOTAL NO. of ITERATIONS REACHED LIMIT.\n",
      "\n",
      "Increase the number of iterations (max_iter) or scale the data as shown in:\n",
      "    https://scikit-learn.org/stable/modules/preprocessing.html\n",
      "  self.n_iter_ = _check_optimize_result(\"lbfgs\", opt_res, self.max_iter)\n",
      "D:\\anaconda3\\lib\\site-packages\\sklearn\\neural_network\\_multilayer_perceptron.py:500: ConvergenceWarning: lbfgs failed to converge (status=1):\n",
      "STOP: TOTAL NO. of ITERATIONS REACHED LIMIT.\n",
      "\n",
      "Increase the number of iterations (max_iter) or scale the data as shown in:\n",
      "    https://scikit-learn.org/stable/modules/preprocessing.html\n",
      "  self.n_iter_ = _check_optimize_result(\"lbfgs\", opt_res, self.max_iter)\n",
      "D:\\anaconda3\\lib\\site-packages\\sklearn\\neural_network\\_multilayer_perceptron.py:500: ConvergenceWarning: lbfgs failed to converge (status=1):\n",
      "STOP: TOTAL NO. of ITERATIONS REACHED LIMIT.\n",
      "\n",
      "Increase the number of iterations (max_iter) or scale the data as shown in:\n",
      "    https://scikit-learn.org/stable/modules/preprocessing.html\n",
      "  self.n_iter_ = _check_optimize_result(\"lbfgs\", opt_res, self.max_iter)\n"
     ]
    },
    {
     "name": "stdout",
     "output_type": "stream",
     "text": [
      "Wall time: 1h 27min 56s\n"
     ]
    }
   ],
   "source": [
    "%%time\n",
    "hidden_layer_first = np.arange(hidden_layer_local_opt_1 - 2, hidden_layer_local_opt_1 + 2)\n",
    "hidden_layer_second = np.arange(hidden_layer_local_opt_2 - 2, hidden_layer_local_opt_2 + 2)\n",
    "alpha_arr = np.logspace(-3, 2, 21)\n",
    "test_err = []\n",
    "train_err = []\n",
    "train_acc = []\n",
    "test_acc = []\n",
    "\n",
    "opt_params = []\n",
    "\n",
    "for size_first in hidden_layer_first:\n",
    "    for size_second in hidden_layer_second:\n",
    "        for alpha in alpha_arr:\n",
    "            mlp_model = MLPClassifier(alpha = alpha, \n",
    "                                      hidden_layer_sizes = (size_first, size_second), \n",
    "                                      solver = 'lbfgs', \n",
    "                                      max_iter = 5000, \n",
    "                                      activation = 'logistic',\n",
    "                                      random_state = 42)\n",
    "\n",
    "\n",
    "            mlp_model.fit(X_train, y_train)\n",
    "\n",
    "            y_train_pred = mlp_model.predict(X_train)\n",
    "            y_test_pred = mlp_model.predict(X_test)\n",
    "\n",
    "            train_err.append(np.mean(y_train != y_train_pred))\n",
    "            test_err.append(np.mean(y_test != y_test_pred))\n",
    "            train_acc.append(accuracy_score(y_train, y_train_pred))\n",
    "            test_acc.append(accuracy_score(y_test, y_test_pred))\n",
    "            \n",
    "            params = {'alpha': alpha, 'hidden_layer_first': size_first, 'hidden_layer_second': size_second} \n",
    "            opt_params.append(params)"
   ]
  },
  {
   "cell_type": "code",
   "execution_count": 79,
   "id": "59b0399e-29a1-46ab-80c2-b58b1790a908",
   "metadata": {},
   "outputs": [
    {
     "name": "stdout",
     "output_type": "stream",
     "text": [
      "Минимальная ошибка на обучающей выборке:  0.0\n",
      "Минимальная ошибка на тестовой выборке:  0.174496644295302\n"
     ]
    }
   ],
   "source": [
    "min_train_err = np.min(train_err)\n",
    "min_test_err = np.min(test_err)\n",
    "print('Минимальная ошибка на обучающей выборке: ', min_train_err)\n",
    "print('Минимальная ошибка на тестовой выборке: ', min_test_err)"
   ]
  },
  {
   "cell_type": "code",
   "execution_count": 80,
   "id": "9cb99bd0-d710-4606-8cdf-e29fea9b707e",
   "metadata": {},
   "outputs": [
    {
     "name": "stdout",
     "output_type": "stream",
     "text": [
      "Оптимальное значение количества нейронов первого скрытого слоя:  40\n",
      "Оптимальное значение количества нейронов второго скрытого слоя:  29\n",
      "Оптимальное значение alpha:  0.1778279410038923\n"
     ]
    }
   ],
   "source": [
    "index_opt = 0\n",
    "for index in range(len(test_err)):\n",
    "    if test_err[index] == min_test_err:\n",
    "        index_opt = index\n",
    "        break\n",
    "        \n",
    "hidden_layer_opt_1 = opt_params[index_opt]['hidden_layer_first']\n",
    "print('Оптимальное значение количества нейронов первого скрытого слоя: ', hidden_layer_opt_1)\n",
    "\n",
    "hidden_layer_opt_2 = opt_params[index_opt]['hidden_layer_second']\n",
    "print('Оптимальное значение количества нейронов второго скрытого слоя: ', hidden_layer_opt_2)\n",
    "\n",
    "alpha_opt = opt_params[index_opt]['alpha']\n",
    "print('Оптимальное значение alpha: ', alpha_opt)"
   ]
  },
  {
   "cell_type": "markdown",
   "id": "8f014662-1932-42d3-92cc-a0a23c7bff66",
   "metadata": {
    "tags": []
   },
   "source": [
    "# Выводы:\n",
    "\n",
    "- При последовательном подборе параметра и необходимого числа нейронов на двух слоях, наилучший результат был получен при alpha ~ 0.01778, 40 и 31 нейронов соответственно, с результатом ~0.19\n",
    "\n",
    "- При одновременном подборе, наилучший результат был получен при alpha ~ 0.01778, 40 и 29 нейронов соответственно, с результатом ~0.18\n",
    "\n",
    "### Таким образом, наилучший результат показал, ранее использованный метод, Random forest, со значением ошибки ~0.17\n"
   ]
  },
  {
   "cell_type": "code",
   "execution_count": null,
   "id": "b045e31b-a779-48e8-b1eb-aec742ad97fd",
   "metadata": {},
   "outputs": [],
   "source": []
  }
 ],
 "metadata": {
  "kernelspec": {
   "display_name": "Python 3 (ipykernel)",
   "language": "python",
   "name": "python3"
  },
  "language_info": {
   "codemirror_mode": {
    "name": "ipython",
    "version": 3
   },
   "file_extension": ".py",
   "mimetype": "text/x-python",
   "name": "python",
   "nbconvert_exporter": "python",
   "pygments_lexer": "ipython3",
   "version": "3.9.7"
  }
 },
 "nbformat": 4,
 "nbformat_minor": 5
}
